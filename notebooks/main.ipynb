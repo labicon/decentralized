{
 "cells": [
  {
   "cell_type": "markdown",
   "id": "dc93dafc-34e9-4a69-a56f-29c3bb713e71",
   "metadata": {
    "tags": []
   },
   "source": [
    "# take2\n",
    "\n",
    "**GOAL**: Keep It Stupid Simple = KISS.\n",
    "\n",
    "**Dependencies:**\n",
    " - [pocketknives](https://github.com/zjwilliams20/pocketknives)\n",
    "\n",
    "**References:**\n",
    " 1. [ilqgames/python](https://github.com/HJReachability/ilqgames/blob/master/python)"
   ]
  },
  {
   "cell_type": "code",
   "execution_count": 2,
   "id": "5af0f28d-2b3f-4be6-93b8-8952dfe73058",
   "metadata": {},
   "outputs": [],
   "source": [
    "from time import perf_counter as pc\n",
    "\n",
    "import numpy as np\n",
    "import matplotlib.pyplot as plt\n",
    "from matplotlib.animation import FuncAnimation\n",
    "import torch\n",
    "\n",
    "from decentralized import split_agents\n",
    "import decentralized as dec\n",
    "import pocketknives\n",
    "\n",
    "π = np.pi"
   ]
  },
  {
   "cell_type": "code",
   "execution_count": 3,
   "id": "14b8776e-8546-446f-8bc3-ee319d701b2b",
   "metadata": {},
   "outputs": [],
   "source": [
    "%load_ext autoreload\n",
    "%autoreload 1\n",
    "%aimport decentralized.control, decentralized.dynamics, decentralized.cost, decentralized.problem, decentralized.util"
   ]
  },
  {
   "cell_type": "code",
   "execution_count": 4,
   "id": "91cd6f19-d6ad-4d1b-b72f-829d26663d52",
   "metadata": {},
   "outputs": [],
   "source": [
    "%matplotlib widget\n",
    "plt.rcParams['axes.grid'] = True"
   ]
  },
  {
   "cell_type": "code",
   "execution_count": 5,
   "id": "5caba289-740d-46cf-aba0-faa5b1a915cd",
   "metadata": {},
   "outputs": [
    {
     "data": {
      "application/vnd.jupyter.widget-view+json": {
       "model_id": "6185ffa19d404a96b81fe41e258a5dde",
       "version_major": 2,
       "version_minor": 0
      },
      "image/png": "[encoded data removed]",
      "text/html": [
       "\n",
       "            <div style=\"display: inline-block;\">\n",
       "                <div class=\"jupyter-widgets widget-label\" style=\"text-align: center;\">\n",
       "                    Figure\n",
       "                </div>\n",
       "                <img src='data:image/png;base64,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' width=640.0/>\n",
       "            </div>\n",
       "        "
      ],
      "text/plain": [
       "Canvas(toolbar=Toolbar(toolitems=[('Home', 'Reset original view', 'home', 'home'), ('Back', 'Back to previous …"
      ]
     },
     "metadata": {},
     "output_type": "display_data"
    },
    {
     "name": "stderr",
     "output_type": "stream",
     "text": [
      "Unhandled message type set_device_pixel_ratio. {'device_pixel_ratio': 1.2000000476837158, 'type': 'set_device_pixel_ratio'}\n"
     ]
    }
   ],
   "source": [
    "# fig = plt.figure(figsize=(3.7, 3.7))\n",
    "fig = plt.figure()"
   ]
  },
  {
   "cell_type": "code",
   "execution_count": 6,
   "id": "94329606-5110-4dd0-bcb4-8cbeeeaf6fe1",
   "metadata": {},
   "outputs": [],
   "source": [
    "def pos_mask(x_dims):\n",
    "    \"\"\"Return a mask that's true wherever there's an x or y position\"\"\" \n",
    "    return np.array([i % x_dims[0] < 2 for i in range(sum(x_dims))])"
   ]
  },
  {
   "cell_type": "code",
   "execution_count": 7,
   "id": "2552858f-2662-40ce-90a2-25b30315b7fe",
   "metadata": {},
   "outputs": [],
   "source": [
    "def plot_solve(X, J, x_goal, x_dims=None):\n",
    "    \"\"\"Plot the resultant trajectory on plt.gcf()\"\"\"\n",
    "\n",
    "    if not x_dims:\n",
    "        x_dims = [X.shape[1]]\n",
    "        \n",
    "    N = X.shape[0]\n",
    "    t = np.arange(N) * dt\n",
    "    \n",
    "    X_split = split_agents(X, x_dims)\n",
    "    x_goal_split = split_agents(x_goal.reshape(1,-1), x_dims)\n",
    "    \n",
    "    for Xi, xg in zip(X_split, x_goal_split):\n",
    "        plt.scatter(Xi[:,0], Xi[:,1], c=t)\n",
    "        plt.scatter(Xi[0,0], Xi[0,1], 80, 'g', 'x', label=\"$x_0$\")\n",
    "        plt.scatter(xg[0,0], xg[0,1], 80, 'r', 'x', label=\"$x_f$\")\n",
    "    \n",
    "    plt.margins(0.1)\n",
    "    plt.title(f\"Final Cost: {J:.3g}\")\n",
    "    plt.draw()"
   ]
  },
  {
   "cell_type": "markdown",
   "id": "b4e6bfed-7dbc-489d-ac20-66c1e4a1a25a",
   "metadata": {
    "tags": []
   },
   "source": [
    "## single-agent problem"
   ]
  },
  {
   "cell_type": "code",
   "execution_count": 8,
   "id": "cb04928e-552a-4ed8-a814-b6ccd3123c09",
   "metadata": {},
   "outputs": [
    {
     "data": {
      "text/plain": [
       "array([0.05, 0.  , 1.  , 0.05])"
      ]
     },
     "execution_count": 8,
     "metadata": {},
     "output_type": "execute_result"
    }
   ],
   "source": [
    "# Symbolic dynamics example.\n",
    "x = np.array([0, 0, 1, 0])\n",
    "u = np.array([0, 1])\n",
    "dynamics = dec.UnicycleDynamics4dSymbolic(0.05)\n",
    "dynamics(x, u)"
   ]
  },
  {
   "cell_type": "code",
   "execution_count": 9,
   "id": "6dff7c45-1399-4160-9c68-14ec819a9dc8",
   "metadata": {},
   "outputs": [
    {
     "name": "stdout",
     "output_type": "stream",
     "text": [
      "0/50\tJ: 210000\n",
      "1/50\tJ: 106521\tμ: 0.5\tΔ: 0.5\n",
      "2/50\tJ: 7777.6\tμ: 0.125\tΔ: 0.25\n",
      "3/50\tJ: 4623.43\tμ: 0.015625\tΔ: 0.125\n",
      "4/50\tJ: 3518.18\tμ: 0.000976562\tΔ: 0.0625\n",
      "5/50\tJ: 3249.36\tμ: 3.05176e-05\tΔ: 0.03125\n",
      "6/50\tJ: 3187.49\tμ: 0\tΔ: 0.015625\n",
      "7/50\tJ: 3124.95\tμ: 0\tΔ: 0.0078125\n",
      "8/50\tJ: 3094.62\tμ: 0\tΔ: 0.00390625\n",
      "9/50\tJ: 3081.12\tμ: 0\tΔ: 0.00195312\n",
      "10/50\tJ: 3074.96\tμ: 0\tΔ: 0.000976562\n"
     ]
    }
   ],
   "source": [
    "#Single-agent problem for a unicycle (w/ analytical diff.)\n",
    "dt = 0.1\n",
    "N = 50\n",
    "\n",
    "x = np.array([-10, 10, 0, 0], dtype=float)\n",
    "x_goal = np.zeros((4, 1), dtype=float).T\n",
    "\n",
    "dynamics = dec.UnicycleDynamics4dSymbolic(dt)\n",
    "\n",
    "Q = np.diag(torch.tensor([1., 1, 0, 0]))\n",
    "Qf = 1000 * np.eye(Q.shape[0])\n",
    "R = np.eye(2)\n",
    "cost = dec.ReferenceCost(x_goal, Q, R, Qf)\n",
    "\n",
    "prob = dec.ilqrProblem(dynamics, cost)\n",
    "ilqr = dec.ilqrSolver(prob, N)\n",
    "X, U, J = ilqr.solve(x)\n",
    "\n",
    "plt.clf()\n",
    "plot_solve(X, J, x_goal)"
   ]
  },
  {
   "cell_type": "code",
   "execution_count": 10,
   "id": "f08eeadc",
   "metadata": {},
   "outputs": [],
   "source": [
    "# quad_12D = dec.QuadcopterDynamicsSymbolic(0)\n",
    "# x_try = np.array([0.5,0.3,0.5,0,0,0,0.5,0.5,0.2,0,0,0])\n",
    "# u_try = np.array([0,0,0,2])\n",
    "# quad_12D._f(x_try,u_try)\n"
   ]
  },
  {
   "cell_type": "code",
   "execution_count": 15,
   "id": "1ef79e1a",
   "metadata": {},
   "outputs": [
    {
     "name": "stdout",
     "output_type": "stream",
     "text": [
      "0/50\tJ: 25472.4\n",
      "1/50\tJ: 17.4349\tμ: 0.5\tΔ: 0.5\n",
      "2/50\tJ: 14.8913\tμ: 0.125\tΔ: 0.25\n"
     ]
    }
   ],
   "source": [
    "#Single-agent problem for a quadcopter (w/ analytical diff.)\n",
    "dt = 0.01\n",
    "N = 50\n",
    "\n",
    "x = np.array([0, 0, 0.2 , 0, 0, 0, 0.1, 0, 0, 0, 0, 0], dtype=float)\n",
    "x_goal = np.zeros((12, 1), dtype=float).T\n",
    "\n",
    "dynamics = dec.QuadcopterDynamicsSymbolic(dt)\n",
    "\n",
    "Q = np.diag(torch.tensor([1, 1, 1, 1, 1, 1, 1, 1, 1, 1, 1, 1 ]))\n",
    "Qf = 1000 * np.eye(Q.shape[0])\n",
    "R = np.eye(4)\n",
    "cost = dec.ReferenceCost(x_goal, Q, R, Qf)\n",
    "\n",
    "prob = dec.ilqrProblem(dynamics, cost)\n",
    "ilqr = dec.ilqrSolver(prob, N)\n",
    "X, U, J = ilqr.solve(x)\n",
    "\n",
    "plt.clf()\n",
    "plot_solve(X, J, x_goal)"
   ]
  },
  {
   "cell_type": "markdown",
   "id": "fa52b336-88bc-4de5-985c-3f8a885f5e00",
   "metadata": {
    "tags": []
   },
   "source": [
    "## multi-agent problem"
   ]
  },
  {
   "cell_type": "markdown",
   "id": "642a633c-4682-40c7-95c3-9825a74791a4",
   "metadata": {
    "tags": []
   },
   "source": [
    "### initializing the scene\n",
    "Here, we define some initial positions within some distance of each other, and then rotate them about the origin by some random angle to hopefully create some interesting scenarios."
   ]
  },
  {
   "cell_type": "code",
   "execution_count": 16,
   "id": "73c7053f-f679-4cb4-935c-751338b7ca08",
   "metadata": {},
   "outputs": [],
   "source": [
    "def paper_setup():\n",
    "    \"\"\"Hardcoded example with reasonable consistency eyeballed from \n",
    "       Potential-iLQR paper\n",
    "    \"\"\"\n",
    "    x0 = torch.tensor([[0.5, 1.5, 0, 0.1,\n",
    "                        2.5, 1.5, 0, π,\n",
    "                        1.5, 1.3, 0, π/2]], \n",
    "                     dtype=torch.float).T\n",
    "    x_goal = torch.tensor([[2.5, 1.5, 0, 0, \n",
    "                            0.5, 1.5, 0, π, \n",
    "                            1.5, 2.2, 0, π/2]]).T\n",
    "    return x0, x_goal\n",
    "\n",
    "def car_setup():\n",
    "    \"\"\"Same as paper_setup but using car dynamics\"\"\"\n",
    "    x0, x_goal = paper_setup()\n",
    "    car_mask = [i % 4 < 3 for i in range(x0.shape[0])]\n",
    "    return x0[car_mask], x_goal[car_mask]\n",
    "\n",
    "def bike_setup():\n",
    "    \"\"\"Same as paper_setup but using bike dynamics\"\"\"\n",
    "    N_AGENTS = 3\n",
    "    N_STATES = 5\n",
    "    n_total_states = N_AGENTS * N_STATES\n",
    "    bike_mask = [i % 5 < 4 for i in range(n_total_states)]\n",
    "    \n",
    "    x0, x_goal = paper_setup()\n",
    "    x0_bike = torch.zeros(n_total_states, 1)\n",
    "    x_goal_bike = torch.zeros_like(x0_bike)\n",
    "    x0_bike[bike_mask] = x0\n",
    "    x_goal_bike[bike_mask] = x_goal\n",
    "    \n",
    "    return x0_bike, x_goal_bike\n",
    "\n",
    "def double_int_setup():\n",
    "    x0, x_goal = paper_setup()\n",
    "    theta_mask = [i % 4 == 2 for i in range(x0.shape[0])]\n",
    "    with torch.no_grad():\n",
    "        x0[theta_mask] = 0.0\n",
    "        x_goal[theta_mask] = 0.0\n",
    "\n",
    "    return x0, x_goal\n",
    "\n",
    "def dec_test_setup():\n",
    "    x0, x_goal = paper_setup()\n",
    "    x0_other = torch.tensor([[5, 5, 0, 0,\n",
    "                              6, 6, 0, π/4]]).T\n",
    "    x_goal_other = torch.tensor([[6, 4, 0, -π/2,\n",
    "                                  4, 6, 0, π/4]]).T\n",
    "    \n",
    "    x0 = torch.cat([x0, x0_other]) \n",
    "    x_goal = torch.cat([x_goal, x_goal_other])    \n",
    "    \n",
    "    return x0, x_goal"
   ]
  },
  {
   "cell_type": "markdown",
   "id": "f1ef5759-be12-4088-a4e6-fdc845d0d7eb",
   "metadata": {},
   "source": [
    "To be consistent between simulations, we normalize for the scale of the setup by computing the *energy*, or the sum of distances from the origin of the points. This should be the same for all runs."
   ]
  },
  {
   "cell_type": "code",
   "execution_count": 17,
   "id": "b87271ac-82e9-42d7-9276-824d05a26f4b",
   "metadata": {},
   "outputs": [],
   "source": [
    "def compute_energy(x, x_dims):\n",
    "    \"\"\"Determine the sum of distances from the origin\"\"\"\n",
    "    return torch.sum(x[pos_mask(x_dims)].reshape(-1,2).norm(dim=1)).item()\n",
    "\n",
    "def normalize_energy(x, x_dims, energy=10.0):\n",
    "    \"\"\"Zero-center the coordinates and then ensure the sum of \n",
    "       squared distances == energy\n",
    "    \"\"\"\n",
    "    \n",
    "    # Don't mutate x's data for this function, keep it pure.\n",
    "    x = x.clone()\n",
    "    n_agents = len(x_dims)\n",
    "    center = x[pos_mask(x_dims)].reshape(-1, 2).mean(0)\n",
    "\n",
    "    with torch.no_grad():\n",
    "        x[pos_mask(x_dims)] -= center.tile(n_agents).reshape(-1,1)\n",
    "        x[pos_mask(x_dims)] *= energy / compute_energy(x, x_dims)\n",
    "    assert x.numel() == sum(x_dims)\n",
    "    \n",
    "    return x\n",
    "\n",
    "def perturb_state(x, x_dims, var=0.5):\n",
    "    \"\"\"Add a little noise to the start to knock off perfect symmetries\"\"\"\n",
    "    \n",
    "    x = x.clone()\n",
    "    with torch.no_grad():\n",
    "        x[pos_mask(x_dims)] += var*torch.randn_like(x[pos_mask(x_dims)])\n",
    "    \n",
    "    return x"
   ]
  },
  {
   "cell_type": "code",
   "execution_count": 18,
   "id": "1d5df34d-5e4d-454b-82d4-33ae3b77f726",
   "metadata": {},
   "outputs": [
    {
     "ename": "NameError",
     "evalue": "name 'pocketknives' is not defined",
     "output_type": "error",
     "traceback": [
      "\u001b[1;31m---------------------------------------------------------------------------\u001b[0m",
      "\u001b[1;31mNameError\u001b[0m                                 Traceback (most recent call last)",
      "\u001b[1;32m~\\AppData\\Local\\Temp/ipykernel_22028/3381416022.py\u001b[0m in \u001b[0;36m<module>\u001b[1;34m\u001b[0m\n\u001b[0;32m     27\u001b[0m     plt.annotate('', Xi[1,:2], Xi[0,:2], \n\u001b[0;32m     28\u001b[0m                  arrowprops=dict(facecolor=plt.cm.tab20.colors[2*i]))\n\u001b[1;32m---> 29\u001b[1;33m \u001b[0mpocketknives\u001b[0m\u001b[1;33m.\u001b[0m\u001b[0mset_bounds\u001b[0m\u001b[1;33m(\u001b[0m\u001b[0mX\u001b[0m\u001b[1;33m.\u001b[0m\u001b[0mreshape\u001b[0m\u001b[1;33m(\u001b[0m\u001b[1;33m-\u001b[0m\u001b[1;36m1\u001b[0m\u001b[1;33m,\u001b[0m \u001b[0mn_states\u001b[0m\u001b[1;33m)\u001b[0m\u001b[1;33m,\u001b[0m \u001b[0mzoom\u001b[0m\u001b[1;33m=\u001b[0m\u001b[1;36m0.2\u001b[0m\u001b[1;33m)\u001b[0m\u001b[1;33m\u001b[0m\u001b[1;33m\u001b[0m\u001b[0m\n\u001b[0m\u001b[0;32m     30\u001b[0m \u001b[0mplt\u001b[0m\u001b[1;33m.\u001b[0m\u001b[0mdraw\u001b[0m\u001b[1;33m(\u001b[0m\u001b[1;33m)\u001b[0m\u001b[1;33m\u001b[0m\u001b[1;33m\u001b[0m\u001b[0m\n",
      "\u001b[1;31mNameError\u001b[0m: name 'pocketknives' is not defined"
     ]
    }
   ],
   "source": [
    "n_agents = 5\n",
    "n_states = 4\n",
    "n_controls = 2\n",
    "ENERGY = 10.0\n",
    "\n",
    "# x0, x_goal = paper_setup()\n",
    "# x0, x_goal = car_setup()\n",
    "# x0, x_goal = bike_setup()\n",
    "# x0, x_goal = double_int_setup()\n",
    "# x0, x_goal = dec_test_setup()\n",
    "x0, x_goal = dec.random_setup(n_agents, n_states, is_rotation=False, min_sep=1.0, var=1.0)\n",
    "\n",
    "x_dims = [n_states] * n_agents\n",
    "u_dims = [2] * n_agents\n",
    "\n",
    "x0 = normalize_energy(x0, x_dims, ENERGY)\n",
    "x_goal = normalize_energy(x_goal, x_dims, ENERGY)\n",
    "# x0 = perturb_state(x0, x_dims)\n",
    "\n",
    "plt.clf()\n",
    "plt.gca().set_aspect('equal')\n",
    "X = torch.dstack([\n",
    "    x0.reshape(n_agents, n_states).detach(), \n",
    "    x_goal.reshape(n_agents, n_states).detach()\n",
    "]).swapaxes(1,2)\n",
    "for i, Xi in enumerate(X):\n",
    "    plt.annotate('', Xi[1,:2], Xi[0,:2], \n",
    "                 arrowprops=dict(facecolor=plt.cm.tab20.colors[2*i]))\n",
    "pocketknives.set_bounds(X.reshape(-1, n_states), zoom=0.2)\n",
    "plt.draw()"
   ]
  },
  {
   "cell_type": "code",
   "execution_count": 33,
   "id": "7f7d0642-22db-4cf1-9854-82024037eba9",
   "metadata": {},
   "outputs": [],
   "source": [
    "# TODO: deprecate torch usage.\n",
    "x0 = x0.numpy()\n",
    "x_goal = x_goal.numpy()"
   ]
  },
  {
   "cell_type": "code",
   "execution_count": 40,
   "id": "1f606b8b-543c-442a-8e82-7d1118b629ee",
   "metadata": {},
   "outputs": [],
   "source": [
    "dt = 0.05\n",
    "N = 50\n",
    "tol = 1e-3\n",
    "ids = [100 + i for i in range(n_agents)]\n",
    "\n",
    "model = dec.UnicycleDynamics4dSymbolic\n",
    "# model = dec.CarDynamics3D\n",
    "# model = dec.BikeDynamics5D\n",
    "# model = dec.DoubleIntDynamics4D\n",
    "dynamics = dec.MultiDynamicalModel([model(dt, id_) for id_ in ids])\n",
    "\n",
    "Q = 4 * np.diag(np.array([1., 1, 0, 0]))\n",
    "# Qf = 1000 * np.eye(Q.shape[0])\n",
    "Qf = 1000 * np.diag(np.array([1., 1, 1, 1]))\n",
    "R = np.eye(2)\n",
    "\n",
    "# radius = ENERGY / 20\n",
    "radius = 0.5\n",
    "\n",
    "goal_costs = [dec.ReferenceCost(x_goal_i, Q.copy(), R.copy(), Qf.copy(), id_) \n",
    "              for x_goal_i, id_ in zip(split_agents(x_goal.T, x_dims), ids)]\n",
    "# prox_cost = dec.ProximityCost(x_dims, radius)\n",
    "prox_cost = dec.CouplingCost(x_dims, radius)\n",
    "game_cost = dec.GameCost(goal_costs, prox_cost)\n",
    "\n",
    "prob = dec.ilqrProblem(dynamics, game_cost)"
   ]
  },
  {
   "cell_type": "code",
   "execution_count": 41,
   "id": "563b0318-aef0-4483-afb9-9dae0352b3df",
   "metadata": {},
   "outputs": [
    {
     "name": "stdout",
     "output_type": "stream",
     "text": [
      "0/50\tJ: 19711.6\n",
      "1/50\tJ: 6009.44\tμ: 0.5\tΔ: 0.5\n",
      "2/50\tJ: 4407.99\tμ: 0.125\tΔ: 0.25\n",
      "3/50\tJ: 2710.69\tμ: 0.015625\tΔ: 0.125\n",
      "4/50\tJ: 2683.67\tμ: 0.000976562\tΔ: 0.0625\n",
      "5/50\tJ: 2202.33\tμ: 3.05176e-05\tΔ: 0.03125\n",
      "6/50\tJ: 1732.45\tμ: 0\tΔ: 0.015625\n",
      "7/50\tJ: 1621.52\tμ: 0\tΔ: 0.0078125\n",
      "8/50\tJ: 1611.21\tμ: 0\tΔ: 0.00390625\n",
      "CPU times: user 7.1 s, sys: 3.72 s, total: 10.8 s\n",
      "Wall time: 2.83 s\n"
     ]
    }
   ],
   "source": [
    "%%time\n",
    "# %%prun\n",
    "ilqr = dec.ilqrSolver(prob, N)\n",
    "t0 = pc()\n",
    "X, U, J = ilqr.solve(x0, tol=tol)"
   ]
  },
  {
   "cell_type": "code",
   "execution_count": 43,
   "id": "f583a3f3-8ec4-482d-b904-c957475a345a",
   "metadata": {},
   "outputs": [],
   "source": [
    "plt.clf()\n",
    "plot_solve(X, J, x_goal, x_dims)"
   ]
  },
  {
   "cell_type": "code",
   "execution_count": 26,
   "id": "b87a4e75-51b8-4810-b699-4242d87f6435",
   "metadata": {},
   "outputs": [],
   "source": [
    "plt.clf()\n",
    "plt.plot(dec.compute_pairwise_distance(X, x_dims).T)\n",
    "plt.hlines(radius, *plt.xlim(), 'r', ls='--')\n",
    "plt.draw()"
   ]
  },
  {
   "cell_type": "code",
   "execution_count": 25,
   "id": "d9ae135c-adc9-40ee-87ad-a42fb0f1edfc",
   "metadata": {},
   "outputs": [],
   "source": [
    "costs = []\n",
    "for xi, ui in zip(X, U):\n",
    "    costs.append(game_cost(xi, ui).item())\n",
    "plt.clf()\n",
    "plt.plot(costs)\n",
    "plt.draw()"
   ]
  },
  {
   "cell_type": "markdown",
   "id": "f66d3a80-59f3-4690-8b97-8f5d874a14a8",
   "metadata": {},
   "source": [
    "## multi-agent receding horizon"
   ]
  },
  {
   "cell_type": "code",
   "execution_count": 36,
   "id": "671563fd-1e6e-46ac-bdf7-87e46a1a099a",
   "metadata": {},
   "outputs": [
    {
     "name": "stdout",
     "output_type": "stream",
     "text": [
      "--------------------------------------------------\n",
      "Horizon 0\n",
      "0/50\tJ: 90302.8\n",
      "1/50\tJ: 7493.98\tμ: 0.5\tΔ: 0.5\n",
      "2/50\tJ: 6424.32\tμ: 0.125\tΔ: 0.25\n",
      "3/50\tJ: 6413.42\tμ: 0.015625\tΔ: 0.125\n",
      "--------------------------------------------------\n",
      "Horizon 1\n",
      "0/50\tJ: 2469.15\n",
      "1/50\tJ: 2425.67\tμ: 0.5\tΔ: 0.5\n",
      "--------------------------------------------------\n",
      "Horizon 2\n",
      "0/50\tJ: 909.057\n",
      "1/50\tJ: 906.489\tμ: 0.5\tΔ: 0.5\n",
      "--------------------------------------------------\n",
      "Horizon 3\n",
      "0/50\tJ: 320.679\n",
      "1/50\tJ: 314.359\tμ: 0.5\tΔ: 0.5\n",
      "--------------------------------------------------\n",
      "Horizon 4\n",
      "0/50\tJ: 105.959\n",
      "1/50\tJ: 100.372\tμ: 0.5\tΔ: 0.5\n",
      "Converged!\n"
     ]
    }
   ],
   "source": [
    "rhc = dec.RecedingHorizonController(x0, ilqr, step_size=10)\n",
    "U0 = torch.zeros((ilqr.N, ilqr.n_u))\n",
    "for Xi, Ui, Ji in rhc.solve(U0, J_converge=101.0, tol=tol):\n",
    "    plt.cla()\n",
    "    plot_solve(Xi, Ji, x_goal.numpy(), x_dims)\n",
    "    fig.canvas.draw()"
   ]
  },
  {
   "cell_type": "markdown",
   "id": "68c1de09-898c-411a-896b-c4000ec679cf",
   "metadata": {},
   "source": [
    "## decentralized multi-agent"
   ]
  },
  {
   "cell_type": "code",
   "execution_count": 35,
   "id": "2d74de30-c356-4ee1-8c90-2abacc98d974",
   "metadata": {},
   "outputs": [
    {
     "data": {
      "text/plain": [
       "{100: [100, 102, 104],\n",
       " 101: [101, 102, 103],\n",
       " 102: [100, 101, 102, 103],\n",
       " 103: [101, 102, 103],\n",
       " 104: [100, 104]}"
      ]
     },
     "execution_count": 35,
     "metadata": {},
     "output_type": "execute_result"
    }
   ],
   "source": [
    "graph = dec.define_inter_graph_threshold(X, radius/2, x_dims, ids)\n",
    "graph"
   ]
  },
  {
   "cell_type": "code",
   "execution_count": 36,
   "id": "572bedc9-a7aa-4aaf-8057-1bb4cda239c6",
   "metadata": {},
   "outputs": [
    {
     "data": {
      "application/vnd.jupyter.widget-view+json": {
       "model_id": "4fac9a7c0f9249308a4a07567c220823",
       "version_major": 2,
       "version_minor": 0
      },
      "image/png": "[encoded data removed]",
      "text/html": [
       "\n",
       "            <div style=\"display: inline-block;\">\n",
       "                <div class=\"jupyter-widgets widget-label\" style=\"text-align: center;\">\n",
       "                    Figure 1\n",
       "                </div>\n",
       "                <img src='data:image/png;base64,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' width=370.0/>\n",
       "            </div>\n",
       "        "
      ],
      "text/plain": [
       "Canvas(toolbar=Toolbar(toolitems=[('Home', 'Reset original view', 'home', 'home'), ('Back', 'Back to previous …"
      ]
     },
     "metadata": {},
     "output_type": "display_data"
    }
   ],
   "source": [
    "plt.clf()\n",
    "dec.plot_interaction_graph(graph)\n",
    "plt.draw()"
   ]
  },
  {
   "cell_type": "code",
   "execution_count": 27,
   "id": "deaa67a1-6c2f-4305-9332-bf71a16c7d69",
   "metadata": {},
   "outputs": [],
   "source": [
    "X0 = torch.tile(x0.T, (N,1))\n",
    "U0 = torch.zeros((N, n_controls*n_agents))"
   ]
  },
  {
   "cell_type": "code",
   "execution_count": 28,
   "id": "3a50e984-954e-40c4-bff3-6371d6a153a3",
   "metadata": {},
   "outputs": [
    {
     "name": "stdout",
     "output_type": "stream",
     "text": [
      "0/50\tJ: 26379.9\n",
      "1/50\tJ: 1868\tμ: 0.5\tΔ: 0.5\n",
      "2/50\tJ: 1864.47\tμ: 0.125\tΔ: 0.25\n",
      "Problem 100: [100]\n",
      "Took 0.7208006999990175 seconds\n",
      "============================================================\n",
      "0/50\tJ: 11356\n",
      "1/50\tJ: 832.618\tμ: 0.5\tΔ: 0.5\n",
      "2/50\tJ: 803.053\tμ: 0.125\tΔ: 0.25\n",
      "Problem 101: [101]\n",
      "Took 0.6880504000000656 seconds\n",
      "============================================================\n",
      "0/50\tJ: 5961.45\n",
      "1/50\tJ: 1192.64\tμ: 0.5\tΔ: 0.5\n",
      "2/50\tJ: 440.511\tμ: 0.125\tΔ: 0.25\n",
      "3/50\tJ: 433.58\tμ: 0.015625\tΔ: 0.125\n",
      "4/50\tJ: 432.923\tμ: 0.000976562\tΔ: 0.0625\n",
      "Problem 102: [102]\n",
      "Took 1.1082776999992348 seconds\n",
      "============================================================\n",
      "0/50\tJ: 14061\n",
      "1/50\tJ: 4776.3\tμ: 0.5\tΔ: 0.5\n",
      "2/50\tJ: 1114.57\tμ: 0.125\tΔ: 0.25\n",
      "3/50\tJ: 1069.2\tμ: 0.015625\tΔ: 0.125\n",
      "4/50\tJ: 1034.89\tμ: 0.000976562\tΔ: 0.0625\n",
      "5/50\tJ: 1028.54\tμ: 3.05176e-05\tΔ: 0.03125\n",
      "6/50\tJ: 1025.82\tμ: 0\tΔ: 0.015625\n",
      "7/50\tJ: 1024.56\tμ: 0\tΔ: 0.0078125\n",
      "Problem 103: [103]\n",
      "Took 2.0048832000011316 seconds\n",
      "============================================================\n",
      "0/50\tJ: 3742.75\n",
      "1/50\tJ: 518.531\tμ: 0.5\tΔ: 0.5\n",
      "2/50\tJ: 271.294\tμ: 0.125\tΔ: 0.25\n",
      "3/50\tJ: 270.03\tμ: 0.015625\tΔ: 0.125\n",
      "Problem 104: [104]\n",
      "Took 0.9447392000001855 seconds\n",
      "============================================================\n",
      "CPU times: user 5.5 s, sys: 48.5 ms, total: 5.55 s\n",
      "Wall time: 5.53 s\n"
     ]
    }
   ],
   "source": [
    "%%time\n",
    "X_dec, U_dec, J_dec = dec.solve_decentralized(prob, X0, U0, radius, is_mp=False)"
   ]
  },
  {
   "cell_type": "code",
   "execution_count": 78,
   "id": "f86c1bc4-080d-4fb2-b316-4da8f917b3a1",
   "metadata": {},
   "outputs": [],
   "source": [
    "plt.clf()\n",
    "plot_solve(X_dec, J_dec, x_goal.numpy(), x_dims)"
   ]
  },
  {
   "cell_type": "code",
   "execution_count": 29,
   "id": "4856bf08-5d40-4102-8806-c1ac8fce260b",
   "metadata": {},
   "outputs": [],
   "source": [
    "X = X_dec.clone()"
   ]
  },
  {
   "cell_type": "markdown",
   "id": "27478146-3f83-4e15-8202-833edd93f879",
   "metadata": {
    "tags": []
   },
   "source": [
    "## decentralized multi-agent receding horizon\n",
    "Adding RHC to the decentralized implementation would just be a matter of indexing a subset of the generated states in the combined decentralized solutions."
   ]
  },
  {
   "cell_type": "markdown",
   "id": "ce44002f-d19a-4f80-9e38-9a9bf4f3a2d0",
   "metadata": {},
   "source": [
    "## animation"
   ]
  },
  {
   "cell_type": "code",
   "execution_count": 52,
   "id": "fd5d8eee-d9af-4c29-9b1e-abe38ddccc90",
   "metadata": {},
   "outputs": [
    {
     "data": {
      "application/vnd.jupyter.widget-view+json": {
       "model_id": "4de6ccdb7ec1493d82f25c9e2c59ab17",
       "version_major": 2,
       "version_minor": 0
      },
      "image/png": "[encoded data removed]",
      "text/html": [
       "\n",
       "            <div style=\"display: inline-block;\">\n",
       "                <div class=\"jupyter-widgets widget-label\" style=\"text-align: center;\">\n",
       "                    Figure\n",
       "                </div>\n",
       "                <img src='data:image/png;base64,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' width=500.0/>\n",
       "            </div>\n",
       "        "
      ],
      "text/plain": [
       "Canvas(toolbar=Toolbar(toolitems=[('Home', 'Reset original view', 'home', 'home'), ('Back', 'Back to previous …"
      ]
     },
     "metadata": {},
     "output_type": "display_data"
    }
   ],
   "source": [
    "_, axes = plt.subplots(1, 2, figsize=(5.0, 3.7))"
   ]
  },
  {
   "cell_type": "code",
   "execution_count": 50,
   "id": "86412aa3-9981-4600-a2a2-2211da3ec579",
   "metadata": {},
   "outputs": [],
   "source": [
    "def setup(axes, X, x_goal, x_dims, radius):\n",
    "    \n",
    "    ax1, ax2 = axes\n",
    "    n_agents = len(x_dims)\n",
    "    handles1 = []\n",
    "    for i in range(n_agents):\n",
    "        handles1.append((\n",
    "            ax1.plot(0, c=plt.cm.tab20.colors[2*i], marker='o', markersize=4)[0],\n",
    "            ax1.add_artist(plt.Circle(np.nan, radius, color='k', fill=True, alpha=0.3, lw=2)),\n",
    "        ))\n",
    "        \n",
    "    for xg in split_agents(x_goal, x_dims):\n",
    "        ax1.scatter(xg[0,0], xg[0,1], c='r', marker='x', zorder=10)\n",
    "\n",
    "    X_cat = np.vstack(split_agents(X, x_dims))\n",
    "    pocketknives.set_bounds(X_cat, axes[0], zoom=0.15)\n",
    "    plt.draw()\n",
    "    \n",
    "    handles2 = []\n",
    "    n_pairs = pocketknives.nchoosek(n_agents, 2)\n",
    "    for i in range(n_pairs):\n",
    "        handles2.append(ax2.plot(0, c=plt.cm.tab20.colors[2*i])[0])\n",
    "    ax2.hlines(radius, 0, X.shape[0], 'r', ls='--')\n",
    "    ax2.set_ylim(0.0, distances.max())\n",
    "        \n",
    "    return handles1, handles2\n",
    "    \n",
    "def animate(t, handles1, handles2, X, x_dims, x_goal, distances):\n",
    "    \"\"\"Animate the solution into a gif\"\"\"\n",
    "    \n",
    "    for (i, xi), hi in zip(enumerate(split_agents(X, x_dims)), handles1):\n",
    "        hi[0].set_xdata(xi[:t,0])\n",
    "        hi[0].set_ydata(xi[:t,1])\n",
    "        hi[1].set_center(xi[t-1,:2])\n",
    "        \n",
    "    for i, hi in enumerate(handles2):\n",
    "        hi.set_xdata(range(t))\n",
    "        hi.set_ydata(distances[:t, i])\n",
    "    \n",
    "    plt.draw()\n",
    "    "
   ]
  },
  {
   "cell_type": "code",
   "execution_count": 51,
   "id": "d23639a7-3ef6-438f-a215-12798324ac8d",
   "metadata": {},
   "outputs": [],
   "source": [
    "distances = dec.compute_pairwise_distance(X, x_dims).T\n",
    "handles1, handles2 = setup(axes, X, x_goal.flatten(), x_dims, radius)\n",
    "animate(10, handles1, handles2, X, x_dims, x_goal, distances)\n",
    "plt.draw()"
   ]
  },
  {
   "cell_type": "code",
   "execution_count": 53,
   "id": "cb12a6da-32df-47e7-bb14-d0f52afdcd71",
   "metadata": {},
   "outputs": [
    {
     "name": "stderr",
     "output_type": "stream",
     "text": [
      "MovieWriter ffmpeg unavailable; using Pillow instead.\n"
     ]
    }
   ],
   "source": [
    "handles = setup(axes, X, x_goal.flatten(), x_dims, radius)\n",
    "anim = FuncAnimation(\n",
    "    plt.gcf(), \n",
    "    animate, \n",
    "    frames=N+1, \n",
    "    fargs=(*handles, X, x_dims, x_goal, distances))\n",
    "anim.save('traj.gif', fps=5)"
   ]
  },
  {
   "cell_type": "code",
   "execution_count": null,
   "id": "b07afc16-1532-42b3-8c41-479132ac9bc0",
   "metadata": {},
   "outputs": [],
   "source": []
  },
  {
   "cell_type": "code",
   "execution_count": null,
   "id": "18e04e80-d538-48a0-8e59-d9377ec87bc6",
   "metadata": {},
   "outputs": [],
   "source": []
  },
  {
   "cell_type": "code",
   "execution_count": null,
   "id": "22f08729-6a64-4ede-9624-b5b4fd25a825",
   "metadata": {},
   "outputs": [],
   "source": []
  }
 ],
 "metadata": {
  "kernelspec": {
   "display_name": "Python 3.9.6 ('ae483')",
   "language": "python",
   "name": "python3"
  },
  "language_info": {
   "codemirror_mode": {
    "name": "ipython",
    "version": 3
   },
   "file_extension": ".py",
   "mimetype": "text/x-python",
   "name": "python",
   "nbconvert_exporter": "python",
   "pygments_lexer": "ipython3",
   "version": "3.9.6"
  },
  "vscode": {
   "interpreter": {
    "hash": "058f31b78fbf7244eb8facf557271df584eab59ce6d5780d24511a849a97c170"
   }
  }
 },
 "nbformat": 4,
 "nbformat_minor": 5
}
