{
    "cells": [
        {
            "cell_type": "markdown",
            "id": "f4c0c84e-5811-4ffc-930d-0d8b4e85b4b1",
            "metadata": {
                "tags": []
            },
            "source": [
                "# Derivations\n",
                "Specifically of discretizing and linearizing continuous time dynamics as well as quadraticizing costs."
            ]
        },
        {
            "cell_type": "markdown",
            "id": "84423b58-761d-4212-ae1b-17a53a3b541a",
            "metadata": {},
            "source": [
                "References:\n",
                "1. [Jackson, Howell - iLQR Tutorial](http://roboticexplorationlab.org/papers/iLQR_Tutorial.pdf)\n",
                "1. [Kavuncu et. al. - Potential iLQR](https://arxiv.org/pdf/2107.04926.pdf)\n",
                "1. [Pyomo - 2.6 Model Predictive Control of a Double Integrator](https://jckantor.github.io/ND-Pyomo-Cookbook/02.06-Model-Predictive-Control-of-a-Double-Integrator.html)\n",
                "1. [Discretizing an SSM](https://en.wikipedia.org/wiki/Discretization#Discretization_of_linear_state_space_models)\n",
                "1. [Drake - ilqr_driving](https://colab.research.google.com/github/RussTedrake/underactuated/blob/master/exercises/trajopt/ilqr_driving/ilqr_driving.ipynb#scrollTo=WCdJhqQqHLii)\n",
                "1. [Al - Augmenting an Angular State](https://github.com/anassinator/ilqr/blob/master/ilqr/examples/cartpole.py)"
            ]
        },
        {
            "cell_type": "code",
            "execution_count": 7,
            "id": "0747eee0-ce0b-4ad2-afed-5936abaeb5f1",
            "metadata": {},
            "outputs": [],
            "source": [
                "import matplotlib.pyplot as plt\n",
                "import numpy as np\n",
                "import sympy as sym\n",
                "from IPython.display import display, Math"
            ]
        },
        {
            "cell_type": "code",
            "execution_count": 8,
            "id": "d83f9f5a-c7c0-4615-b4bd-6f7d42a96507",
            "metadata": {},
            "outputs": [],
            "source": [
                "%matplotlib ipympl\n",
                "np.set_printoptions(precision=3, suppress=True)"
            ]
        },
        {
            "cell_type": "markdown",
            "id": "9cd272bf-c3b8-4910-bbeb-244862fe1cc7",
            "metadata": {
                "tags": []
            },
            "source": [
                "## Dynamical System [1]\n",
                "A dynamical system can be modeled by the following non-linear, continuous dynamics:\n",
                "\n",
                "$$\\dot x = f_c(x, u)$$\n",
                "\n",
                "Discretizing using the [following method](https://en.wikipedia.org/wiki/Discretization#Discretization_of_linear_state_space_models):\n",
                "\n",
                "$$x_{k+1} = f(x_k, u_k)$$\n",
                "\n",
                "Using a 1st order Taylor Series expansion, we linearize around an operating point:\n",
                "\n",
                "$$\\begin{aligned}\n",
                "x_{k+1} + \\delta x_{k+1} &\\approx f(x_k, u_k) + \n",
                "\\left.\\frac{\\partial f}{\\partial x}\\right|_{x_k, u_k}(x - x_k) + \n",
                "\\left.\\frac{\\partial f}{\\partial u}\\right|_{x_k, u_k}(u - u_k)\n",
                "\\\\\n",
                "\\delta x_{k+1} &= A \\delta x_k + B \\delta u_k\n",
                "\\end{aligned}\n",
                "$$"
            ]
        },
        {
            "cell_type": "code",
            "execution_count": 1,
            "id": "dcab3f80-3948-4f0b-805e-450103eeaef0",
            "metadata": {},
            "outputs": [],
            "source": [
                "def discretize(A, B, Δt):\n",
                "    \"\"\"Compute the discretization of continuous dynamics assuming zero-order hold.\"\"\"\n",
                "    \n",
                "    k, t = sym.symbols('k t')\n",
                "    Ad = sym.exp(A * Δt).simplify()\n",
                "    # Ad_approx = sym.summation(1/sym.factorial(k) * (A*Δt) ** k, (k, 0, sym.oo))\n",
                "    Ad_approx = sym.eye(A.shape[0], A.shape[0]) + A * Δt\n",
                "    # Bd = A**-1 * (Ad - sym.eye(4,4)) * B # for non-singular A\n",
                "    Bd = sym.integrate(Ad, (t, 0, Δt)) * B\n",
                "    \n",
                "    return Ad, Bd"
            ]
        },
        {
            "cell_type": "code",
            "execution_count": 2,
            "id": "e525e51e-7750-406c-863d-c03f67a9bd10",
            "metadata": {},
            "outputs": [],
            "source": [
                "def linearize(x_dot, x, u):\n",
                "    \"\"\"Compute the linearization of the dynamics with respect to x and u.\"\"\"\n",
                "    \n",
                "    A = x_dot.jacobian(x)\n",
                "    B = x_dot.jacobian(u)\n",
                "    return A, B"
            ]
        },
        {
            "cell_type": "markdown",
            "id": "1c4dab43-9bae-4272-966c-e72e0e2159c0",
            "metadata": {
                "tags": []
            },
            "source": [
                "## Unicycle Dynamics [2]\n",
                "A unicycle can be modelled using the following continuous dynamics:\n",
                "\n",
                "$$\\begin{aligned}\n",
                "x &= \\begin{bmatrix} p_x & p_y & v & \\theta \\end{bmatrix} \\\\\n",
                "u &= \\begin{bmatrix} a & \\omega\\end{bmatrix}\n",
                "\\end{aligned}$$\n",
                "\n",
                "\n",
                "$$\\begin{aligned}\n",
                "\\dot p_{x} &= v\\cos\\theta \\\\\n",
                "\\dot p_{y} &= v\\sin\\theta \\\\\n",
                "\\dot \\theta &= \\omega \\\\\n",
                "\\dot v &= a\n",
                "\\end{aligned}$$"
            ]
        },
        {
            "cell_type": "code",
            "execution_count": 3,
            "id": "4f9de11b-4995-4f6e-bbeb-b147c2eb6766",
            "metadata": {},
            "outputs": [],
            "source": [
                "from decentralized import DoubleIntDynamics4D\n",
                "import torch"
            ]
        },
        {
            "cell_type": "code",
            "execution_count": 4,
            "id": "4047af27-5385-4e50-a301-7221282eec45",
            "metadata": {},
            "outputs": [
                {
                    "data": {
                        "text/plain": [
                            "tensor([0., 0., 1., 0.])"
                        ]
                    },
                    "execution_count": 4,
                    "metadata": {},
                    "output_type": "execute_result"
                }
            ],
            "source": [
                "m = DoubleIntDynamics4D(1)\n",
                "xi = torch.zeros(4)\n",
                "ui = torch.tensor([1., 0.])\n",
                "m(xi, ui)"
            ]
        },
        {
            "cell_type": "code",
            "execution_count": 5,
            "id": "6cf4a9d0-73d6-4a1a-9cef-9a27418cde4f",
            "metadata": {},
            "outputs": [],
            "source": [
                "theta = 0.0\n",
                "dt = 1.0\n",
                "v = 3.0"
            ]
        },
        {
            "cell_type": "code",
            "execution_count": 9,
            "id": "d0fd3230-26f1-481d-8b2e-b95f1781f590",
            "metadata": {},
            "outputs": [
                {
                    "name": "stdout",
                    "output_type": "stream",
                    "text": [
                        "6.57 µs ± 359 ns per loop (mean ± std. dev. of 7 runs, 100,000 loops each)\n"
                    ]
                }
            ],
            "source": [
                "%%timeit\n",
                "np.array([\n",
                "    [1, 0, dt*np.cos(theta), -dt*v*np.sin(theta)],\n",
                "    [0, 1, dt*np.sin(theta),  dt*v*np.cos(theta)],\n",
                "    [0, 0,                     1,                        0],\n",
                "    [0, 0,                     0,                        1]\n",
                "])"
            ]
        },
        {
            "cell_type": "code",
            "execution_count": 10,
            "id": "5076125f-ee7c-4a26-b172-5da782004202",
            "metadata": {},
            "outputs": [],
            "source": [
                "p_x, p_y, v, theta, omega, a = sym.symbols('p_x p_y v theta omega a')\n",
                "x = sym.Matrix([p_x, p_y, v, theta])\n",
                "u = sym.Matrix([a, omega])\n",
                "\n",
                "x_dot = sym.Matrix([\n",
                "    x[2]*sym.cos(x[3]),\n",
                "    x[2]*sym.sin(x[3]),\n",
                "    u[0],\n",
                "    u[1],\n",
                "])\n",
                "\n",
                "A = x_dot.jacobian(x)\n",
                "B = x_dot.jacobian(u)\n",
                "\n",
                "A_num = sym.lambdify((x, u), A)\n",
                "xi = np.array([1, 2, 3, 0])\n",
                "ui = np.array([1, 1])"
            ]
        },
        {
            "cell_type": "code",
            "execution_count": 11,
            "id": "8cf530da-247c-4445-bf6f-bca75eebaca2",
            "metadata": {},
            "outputs": [],
            "source": [
                "# f = sym.lambdify((x, u), sym.reshape(x_dot, (x.shape[0],)))\n",
                "# f = sym.lambdify((x, u), x_dot.vec())\n",
                "f = sym.lambdify((x, u), x_dot)\n",
                "f0 = sym.lambdify((x, u), sym.Array(x_dot))\n",
                "f = sym.lambdify((x, u), sym.Array(x_dot)[:,0])\n",
                "f2 = sym.lambdify((x, u), sym.Array(x_dot).reshape(x.shape[0]))\n",
                "f3 = sym.lambdify((x, u), x_dot[:,0])\n"
            ]
        },
        {
            "cell_type": "code",
            "execution_count": 12,
            "id": "36a732cd-ad24-4ed4-b299-d9cd8dfadaaa",
            "metadata": {},
            "outputs": [
                {
                    "data": {
                        "text/latex": [
                            "$\\displaystyle \\left[\\begin{matrix}v \\cos{\\left(\\theta \\right)}\\\\v \\sin{\\left(\\theta \\right)}\\\\a\\\\\\omega\\end{matrix}\\right]$"
                        ],
                        "text/plain": [
                            "Matrix([\n",
                            "[v*cos(theta)],\n",
                            "[v*sin(theta)],\n",
                            "[           a],\n",
                            "[       omega]])"
                        ]
                    },
                    "execution_count": 12,
                    "metadata": {},
                    "output_type": "execute_result"
                }
            ],
            "source": [
                "x_dot"
            ]
        },
        {
            "cell_type": "code",
            "execution_count": 13,
            "id": "4ea960f6-d156-4841-99e9-cf5a7504949c",
            "metadata": {},
            "outputs": [
                {
                    "data": {
                        "text/plain": [
                            "array([[3.],\n",
                            "       [0.],\n",
                            "       [1.],\n",
                            "       [1.]])"
                        ]
                    },
                    "execution_count": 13,
                    "metadata": {},
                    "output_type": "execute_result"
                }
            ],
            "source": [
                "f3(xi, ui)"
            ]
        },
        {
            "cell_type": "code",
            "execution_count": 14,
            "id": "1f329e7f-3b64-4f1d-a1f0-93d23b4d95ef",
            "metadata": {},
            "outputs": [
                {
                    "name": "stdout",
                    "output_type": "stream",
                    "text": [
                        "10.6 µs ± 383 ns per loop (mean ± std. dev. of 7 runs, 100,000 loops each)\n",
                        "11.8 µs ± 342 ns per loop (mean ± std. dev. of 7 runs, 100,000 loops each)\n"
                    ]
                },
                {
                    "ename": "NameError",
                    "evalue": "name 'f1' is not defined",
                    "output_type": "error",
                    "traceback": [
                        "\u001b[0;31m---------------------------------------------------------------------------\u001b[0m",
                        "\u001b[0;31mNameError\u001b[0m                                 Traceback (most recent call last)",
                        "Input \u001b[0;32mIn [14]\u001b[0m, in \u001b[0;36m<cell line: 3>\u001b[0;34m()\u001b[0m\n\u001b[1;32m      1\u001b[0m get_ipython()\u001b[38;5;241m.\u001b[39mrun_line_magic(\u001b[38;5;124m'\u001b[39m\u001b[38;5;124mtimeit\u001b[39m\u001b[38;5;124m'\u001b[39m, \u001b[38;5;124m'\u001b[39m\u001b[38;5;124mf(xi, ui)\u001b[39m\u001b[38;5;124m'\u001b[39m)\n\u001b[1;32m      2\u001b[0m get_ipython()\u001b[38;5;241m.\u001b[39mrun_line_magic(\u001b[38;5;124m'\u001b[39m\u001b[38;5;124mtimeit\u001b[39m\u001b[38;5;124m'\u001b[39m, \u001b[38;5;124m'\u001b[39m\u001b[38;5;124mf0(xi, ui)\u001b[39m\u001b[38;5;124m'\u001b[39m)\n\u001b[0;32m----> 3\u001b[0m \u001b[43mget_ipython\u001b[49m\u001b[43m(\u001b[49m\u001b[43m)\u001b[49m\u001b[38;5;241;43m.\u001b[39;49m\u001b[43mrun_line_magic\u001b[49m\u001b[43m(\u001b[49m\u001b[38;5;124;43m'\u001b[39;49m\u001b[38;5;124;43mtimeit\u001b[39;49m\u001b[38;5;124;43m'\u001b[39;49m\u001b[43m,\u001b[49m\u001b[43m \u001b[49m\u001b[38;5;124;43m'\u001b[39;49m\u001b[38;5;124;43mf1(xi, ui)\u001b[39;49m\u001b[38;5;124;43m'\u001b[39;49m\u001b[43m)\u001b[49m\n\u001b[1;32m      4\u001b[0m get_ipython()\u001b[38;5;241m.\u001b[39mrun_line_magic(\u001b[38;5;124m'\u001b[39m\u001b[38;5;124mtimeit\u001b[39m\u001b[38;5;124m'\u001b[39m, \u001b[38;5;124m'\u001b[39m\u001b[38;5;124mf2(xi, ui)\u001b[39m\u001b[38;5;124m'\u001b[39m)\n",
                        "File \u001b[0;32m~/miniconda3/envs/take3/lib/python3.10/site-packages/IPython/core/interactiveshell.py:2305\u001b[0m, in \u001b[0;36mInteractiveShell.run_line_magic\u001b[0;34m(self, magic_name, line, _stack_depth)\u001b[0m\n\u001b[1;32m   2303\u001b[0m     kwargs[\u001b[38;5;124m'\u001b[39m\u001b[38;5;124mlocal_ns\u001b[39m\u001b[38;5;124m'\u001b[39m] \u001b[38;5;241m=\u001b[39m \u001b[38;5;28mself\u001b[39m\u001b[38;5;241m.\u001b[39mget_local_scope(stack_depth)\n\u001b[1;32m   2304\u001b[0m \u001b[38;5;28;01mwith\u001b[39;00m \u001b[38;5;28mself\u001b[39m\u001b[38;5;241m.\u001b[39mbuiltin_trap:\n\u001b[0;32m-> 2305\u001b[0m     result \u001b[38;5;241m=\u001b[39m \u001b[43mfn\u001b[49m\u001b[43m(\u001b[49m\u001b[38;5;241;43m*\u001b[39;49m\u001b[43margs\u001b[49m\u001b[43m,\u001b[49m\u001b[43m \u001b[49m\u001b[38;5;241;43m*\u001b[39;49m\u001b[38;5;241;43m*\u001b[39;49m\u001b[43mkwargs\u001b[49m\u001b[43m)\u001b[49m\n\u001b[1;32m   2306\u001b[0m \u001b[38;5;28;01mreturn\u001b[39;00m result\n",
                        "File \u001b[0;32m~/miniconda3/envs/take3/lib/python3.10/site-packages/IPython/core/magics/execution.py:1162\u001b[0m, in \u001b[0;36mExecutionMagics.timeit\u001b[0;34m(self, line, cell, local_ns)\u001b[0m\n\u001b[1;32m   1160\u001b[0m \u001b[38;5;28;01mfor\u001b[39;00m index \u001b[38;5;129;01min\u001b[39;00m \u001b[38;5;28mrange\u001b[39m(\u001b[38;5;241m0\u001b[39m, \u001b[38;5;241m10\u001b[39m):\n\u001b[1;32m   1161\u001b[0m     number \u001b[38;5;241m=\u001b[39m \u001b[38;5;241m10\u001b[39m \u001b[38;5;241m*\u001b[39m\u001b[38;5;241m*\u001b[39m index\n\u001b[0;32m-> 1162\u001b[0m     time_number \u001b[38;5;241m=\u001b[39m \u001b[43mtimer\u001b[49m\u001b[38;5;241;43m.\u001b[39;49m\u001b[43mtimeit\u001b[49m\u001b[43m(\u001b[49m\u001b[43mnumber\u001b[49m\u001b[43m)\u001b[49m\n\u001b[1;32m   1163\u001b[0m     \u001b[38;5;28;01mif\u001b[39;00m time_number \u001b[38;5;241m>\u001b[39m\u001b[38;5;241m=\u001b[39m \u001b[38;5;241m0.2\u001b[39m:\n\u001b[1;32m   1164\u001b[0m         \u001b[38;5;28;01mbreak\u001b[39;00m\n",
                        "File \u001b[0;32m~/miniconda3/envs/take3/lib/python3.10/site-packages/IPython/core/magics/execution.py:156\u001b[0m, in \u001b[0;36mTimer.timeit\u001b[0;34m(self, number)\u001b[0m\n\u001b[1;32m    154\u001b[0m gc\u001b[38;5;241m.\u001b[39mdisable()\n\u001b[1;32m    155\u001b[0m \u001b[38;5;28;01mtry\u001b[39;00m:\n\u001b[0;32m--> 156\u001b[0m     timing \u001b[38;5;241m=\u001b[39m \u001b[38;5;28;43mself\u001b[39;49m\u001b[38;5;241;43m.\u001b[39;49m\u001b[43minner\u001b[49m\u001b[43m(\u001b[49m\u001b[43mit\u001b[49m\u001b[43m,\u001b[49m\u001b[43m \u001b[49m\u001b[38;5;28;43mself\u001b[39;49m\u001b[38;5;241;43m.\u001b[39;49m\u001b[43mtimer\u001b[49m\u001b[43m)\u001b[49m\n\u001b[1;32m    157\u001b[0m \u001b[38;5;28;01mfinally\u001b[39;00m:\n\u001b[1;32m    158\u001b[0m     \u001b[38;5;28;01mif\u001b[39;00m gcold:\n",
                        "File \u001b[0;32m<magic-timeit>:1\u001b[0m, in \u001b[0;36minner\u001b[0;34m(_it, _timer)\u001b[0m\n",
                        "\u001b[0;31mNameError\u001b[0m: name 'f1' is not defined"
                    ]
                }
            ],
            "source": [
                "%timeit f(xi, ui)\n",
                "%timeit f0(xi, ui)\n",
                "%timeit f1(xi, ui)\n",
                "%timeit f2(xi, ui)"
            ]
        },
        {
            "cell_type": "code",
            "execution_count": 11,
            "id": "5a2e881c-21d5-4fb5-aae2-6d66ed8cad97",
            "metadata": {
                "tags": [
                    "hide_input"
                ]
            },
            "outputs": [
                {
                    "data": {
                        "text/latex": [
                            "$\\displaystyle x = \\left[\\begin{matrix}p_{x}\\\\p_{y}\\\\v\\\\\\theta\\end{matrix}\\right]u = \\left[\\begin{matrix}a\\\\\\omega\\end{matrix}\\right]$"
                        ],
                        "text/plain": [
                            "<IPython.core.display.Math object>"
                        ]
                    },
                    "metadata": {},
                    "output_type": "display_data"
                }
            ],
            "source": [
                "Δt = sym.Symbol('\\Delta t')\n",
                "p_x, p_y, v, theta, omega, a = sym.symbols('p_x p_y v theta omega a')\n",
                "\n",
                "x = sym.Matrix([p_x, p_y, v, theta])\n",
                "u = sym.Matrix([a, omega])\n",
                "display(Math('x = ' + sym.latex(x) + 'u = ' + sym.latex(u)))"
            ]
        },
        {
            "cell_type": "code",
            "execution_count": 12,
            "id": "4fc81680-a990-405f-aae7-ff393dcf8d9a",
            "metadata": {
                "tags": [
                    "hide_input"
                ]
            },
            "outputs": [
                {
                    "name": "stdout",
                    "output_type": "stream",
                    "text": [
                        "Continuous Time:\n"
                    ]
                },
                {
                    "data": {
                        "text/latex": [
                            "$\\displaystyle A = \\left[\\begin{matrix}0 & 0 & \\cos{\\left(\\theta \\right)} & - v \\sin{\\left(\\theta \\right)}\\\\0 & 0 & \\sin{\\left(\\theta \\right)} & v \\cos{\\left(\\theta \\right)}\\\\0 & 0 & 0 & 0\\\\0 & 0 & 0 & 0\\end{matrix}\\right]\\; B = \\left[\\begin{matrix}0 & 0\\\\0 & 0\\\\1 & 0\\\\0 & 1\\end{matrix}\\right]$"
                        ],
                        "text/plain": [
                            "<IPython.core.display.Math object>"
                        ]
                    },
                    "metadata": {},
                    "output_type": "display_data"
                },
                {
                    "name": "stdout",
                    "output_type": "stream",
                    "text": [
                        "Discrete Time:\n"
                    ]
                },
                {
                    "data": {
                        "text/latex": [
                            "$\\displaystyle A_d = \\left[\\begin{matrix}1 & 0 & \\Delta t \\cos{\\left(\\theta \\right)} & - \\Delta t v \\sin{\\left(\\theta \\right)}\\\\0 & 1 & \\Delta t \\sin{\\left(\\theta \\right)} & \\Delta t v \\cos{\\left(\\theta \\right)}\\\\0 & 0 & 1 & 0\\\\0 & 0 & 0 & 1\\end{matrix}\\right]$"
                        ],
                        "text/plain": [
                            "<IPython.core.display.Math object>"
                        ]
                    },
                    "metadata": {},
                    "output_type": "display_data"
                },
                {
                    "data": {
                        "text/latex": [
                            "$\\displaystyle B_d = \\Delta t \\left[\\begin{matrix}\\Delta t \\cos{\\left(\\theta \\right)} & - \\Delta t v \\sin{\\left(\\theta \\right)}\\\\\\Delta t \\sin{\\left(\\theta \\right)} & \\Delta t v \\cos{\\left(\\theta \\right)}\\\\1 & 0\\\\0 & 1\\end{matrix}\\right]$"
                        ],
                        "text/plain": [
                            "<IPython.core.display.Math object>"
                        ]
                    },
                    "metadata": {},
                    "output_type": "display_data"
                },
                {
                    "name": "stdout",
                    "output_type": "stream",
                    "text": [
                        "Others:\n"
                    ]
                },
                {
                    "data": {
                        "text/latex": [
                            "$\\displaystyle B = \\Delta t\\left[\\begin{matrix}0 & 0\\\\0 & 0\\\\1 & 0\\\\0 & 1\\end{matrix}\\right]$"
                        ],
                        "text/plain": [
                            "<IPython.core.display.Math object>"
                        ]
                    },
                    "metadata": {},
                    "output_type": "display_data"
                }
            ],
            "source": [
                "x_dot = sym.Matrix([\n",
                "    x[2]*sym.cos(x[3]),\n",
                "    x[2]*sym.sin(x[3]),\n",
                "    u[0],\n",
                "    u[1],\n",
                "])\n",
                "\n",
                "A, B = linearize(x_dot, x, u)\n",
                "print('Continuous Time:')\n",
                "display(Math('A = ' + sym.latex(A) + '\\; B = ' + sym.latex(B)))\n",
                "\n",
                "Ad, Bd = discretize(A, B, Δt)\n",
                "print('Discrete Time:')\n",
                "display(Math('A_d = ' + sym.latex(Ad)))\n",
                "display(Math('B_d = \\Delta t ' + sym.latex(Bd/Δt)))\n",
                "\n",
                "print('Others:')\n",
                "Bo = sym.Matrix([[0, 0], [0, 0], [Δt, 0], [0, Δt]])\n",
                "display(Math('B = \\Delta t' + sym.latex(Bo/Δt)))"
            ]
        },
        {
            "cell_type": "markdown",
            "id": "ace68f2c-ada3-4021-ac8b-5d34f28342fd",
            "metadata": {},
            "source": [
                "## Car Dynamics\n",
                "- \"car\" dynamics represent a simplified version of the unicycle dynamics where the linear velocity is in the control, rather than the state.\n",
                "$$\\begin{aligned}\n",
                "x &= \\begin{bmatrix} p_x & p_y & \\theta \\end{bmatrix} \\\\\n",
                "u &= \\begin{bmatrix} v & \\omega\\end{bmatrix}\n",
                "\\end{aligned}$$\n",
                "\n",
                "\n",
                "$$\\begin{aligned}\n",
                "\\dot p_{x} &= v\\cos\\theta \\\\\n",
                "\\dot p_{y} &= v\\sin\\theta \\\\\n",
                "\\dot \\theta &= \\omega \\\\\n",
                "\\end{aligned}$$"
            ]
        },
        {
            "cell_type": "code",
            "execution_count": 52,
            "id": "756e6665-57f8-465b-91fa-6d84593d0816",
            "metadata": {},
            "outputs": [
                {
                    "data": {
                        "text/plain": [
                            "0.7071067811865476"
                        ]
                    },
                    "execution_count": 52,
                    "metadata": {},
                    "output_type": "execute_result"
                }
            ],
            "source": [
                "np.sqrt(2)/2"
            ]
        },
        {
            "cell_type": "code",
            "execution_count": 47,
            "id": "d53e66a5-f2e4-4e41-af8e-86116bb6a76b",
            "metadata": {},
            "outputs": [
                {
                    "data": {
                        "text/plain": [
                            "0.7071067811865476"
                        ]
                    },
                    "execution_count": 47,
                    "metadata": {},
                    "output_type": "execute_result"
                }
            ],
            "source": [
                "np.cos(np.pi/4)"
            ]
        },
        {
            "cell_type": "code",
            "execution_count": 35,
            "id": "09c9718e-875d-4a90-a6b0-3cf635b85d3f",
            "metadata": {},
            "outputs": [
                {
                    "data": {
                        "text/latex": [
                            "$\\displaystyle x = \\left[\\begin{matrix}p_{x}\\\\p_{y}\\\\\\theta\\end{matrix}\\right]$"
                        ],
                        "text/plain": [
                            "<IPython.core.display.Math object>"
                        ]
                    },
                    "metadata": {},
                    "output_type": "display_data"
                },
                {
                    "data": {
                        "text/latex": [
                            "$\\displaystyle u = \\left[\\begin{matrix}v\\\\\\omega\\end{matrix}\\right]$"
                        ],
                        "text/plain": [
                            "<IPython.core.display.Math object>"
                        ]
                    },
                    "metadata": {},
                    "output_type": "display_data"
                }
            ],
            "source": [
                "delta_t = sym.Symbol('\\Delta t')\n",
                "p_x, p_y, v, theta, omega = sym.symbols('p_x p_y v theta omega')\n",
                "\n",
                "x = sym.Matrix([p_x, p_y, theta])\n",
                "u = sym.Matrix([v, omega])\n",
                "display(Math('x = ' + sym.latex(x)))\n",
                "display(Math('u = ' + sym.latex(u)))"
            ]
        },
        {
            "cell_type": "code",
            "execution_count": 45,
            "id": "ab14a540-05fb-45dc-8f90-edeb1cb7bfbb",
            "metadata": {},
            "outputs": [
                {
                    "data": {
                        "text/plain": [
                            "array([[0, 0],\n",
                            "       [0, 0],\n",
                            "       [1, 0],\n",
                            "       [0, 1]])"
                        ]
                    },
                    "execution_count": 45,
                    "metadata": {},
                    "output_type": "execute_result"
                }
            ],
            "source": [
                "np.eye(4, 2, -2).astype(int)"
            ]
        },
        {
            "cell_type": "code",
            "execution_count": 43,
            "id": "85ed33d7-26a2-44c9-9059-b83fa1c07e89",
            "metadata": {},
            "outputs": [
                {
                    "data": {
                        "text/plain": [
                            "array([[0, 0, 1, 0],\n",
                            "       [0, 0, 0, 1],\n",
                            "       [0, 0, 0, 0],\n",
                            "       [0, 0, 0, 0]])"
                        ]
                    },
                    "execution_count": 43,
                    "metadata": {},
                    "output_type": "execute_result"
                }
            ],
            "source": [
                "np.diag([1,1,], 2)"
            ]
        },
        {
            "cell_type": "code",
            "execution_count": 40,
            "id": "b41a3814-c521-4a1b-a4e6-0675c88aa1eb",
            "metadata": {},
            "outputs": [
                {
                    "data": {
                        "text/latex": [
                            "$\\displaystyle \\left[\\begin{matrix}\\cos{\\left(\\theta \\right)} & 0\\\\\\sin{\\left(\\theta \\right)} & 0\\\\0 & 1\\end{matrix}\\right]$"
                        ],
                        "text/plain": [
                            "Matrix([\n",
                            "[cos(theta), 0],\n",
                            "[sin(theta), 0],\n",
                            "[         0, 1]])"
                        ]
                    },
                    "execution_count": 40,
                    "metadata": {},
                    "output_type": "execute_result"
                }
            ],
            "source": [
                "x_dot.jacobian(u)"
            ]
        },
        {
            "cell_type": "code",
            "execution_count": 42,
            "id": "d6bc4776-827a-414a-b956-a8481faf5f77",
            "metadata": {},
            "outputs": [
                {
                    "name": "stdout",
                    "output_type": "stream",
                    "text": [
                        "Continuous time:\n"
                    ]
                },
                {
                    "data": {
                        "text/latex": [
                            "$\\displaystyle A = \\left[\\begin{matrix}0 & 0 & - v \\sin{\\left(\\theta \\right)}\\\\0 & 0 & v \\cos{\\left(\\theta \\right)}\\\\0 & 0 & 0\\end{matrix}\\right]\\;B = \\left[\\begin{matrix}\\cos{\\left(\\theta \\right)} & 0\\\\\\sin{\\left(\\theta \\right)} & 0\\\\0 & 1\\end{matrix}\\right]$"
                        ],
                        "text/plain": [
                            "<IPython.core.display.Math object>"
                        ]
                    },
                    "metadata": {},
                    "output_type": "display_data"
                },
                {
                    "name": "stdout",
                    "output_type": "stream",
                    "text": [
                        "Discrete Time:\n"
                    ]
                },
                {
                    "data": {
                        "text/latex": [
                            "$\\displaystyle A_d = \\left[\\begin{matrix}1 & 0 & - \\Delta t v \\sin{\\left(\\theta \\right)}\\\\0 & 1 & \\Delta t v \\cos{\\left(\\theta \\right)}\\\\0 & 0 & 1\\end{matrix}\\right]\\;B_d = \\Delta t \\left[\\begin{matrix}\\cos{\\left(\\theta \\right)} & - \\Delta t v \\sin{\\left(\\theta \\right)}\\\\\\sin{\\left(\\theta \\right)} & \\Delta t v \\cos{\\left(\\theta \\right)}\\\\0 & 1\\end{matrix}\\right]$"
                        ],
                        "text/plain": [
                            "<IPython.core.display.Math object>"
                        ]
                    },
                    "metadata": {},
                    "output_type": "display_data"
                }
            ],
            "source": [
                "x_dot = sym.Matrix([\n",
                "    u[0]*sym.cos(x[2]),\n",
                "    u[0]*sym.sin(x[2]),\n",
                "    u[1],\n",
                "])\n",
                "\n",
                "A, B = linearize(x_dot, x, u)\n",
                "print('Continuous time:')\n",
                "display(Math('A = ' + sym.latex(A) + '\\;B = ' + sym.latex(B)))\n",
                "\n",
                "Ad, Bd = discretize(A, B, Δt)\n",
                "print('Discrete Time:')\n",
                "display(Math('A_d = ' + sym.latex(Ad) + '\\;B_d = \\Delta t ' + sym.latex(Bd/Δt)))"
            ]
        },
        {
            "cell_type": "markdown",
            "id": "98c055cb-4078-49d7-87d6-e92ea4e89d3f",
            "metadata": {},
            "source": [
                "## Bicycle Dynamics [5]\n",
                "- We can add an additional component to the standard car/unicycle dynamics via steering.\n",
                "- Letting $\\phi$ be the steering angle, the dynamics are:\n",
                "$$\\begin{aligned}\n",
                "x &= \\begin{bmatrix} p_x & p_y & v & \\theta & \\phi \\end{bmatrix} \\\\\n",
                "u &= \\begin{bmatrix} a & \\rho\\end{bmatrix}\n",
                "\\end{aligned}$$\n",
                "\n",
                "\n",
                "$$\\begin{aligned}\n",
                "\\dot p_{x} &= v\\cos\\theta \\\\\n",
                "\\dot p_{y} &= v\\sin\\theta \\\\\n",
                "\\dot v &= a \\\\\n",
                "\\dot \\phi &= \\rho \\\\\n",
                "\\end{aligned}$$"
            ]
        },
        {
            "cell_type": "code",
            "execution_count": 55,
            "id": "962642af-5728-4ef5-b6cc-bfaadbcfa918",
            "metadata": {},
            "outputs": [
                {
                    "data": {
                        "text/latex": [
                            "$\\displaystyle x = \\left[\\begin{matrix}p_{x}\\\\p_{y}\\\\v\\\\\\theta\\\\\\phi\\end{matrix}\\right]\\;u = \\left[\\begin{matrix}a\\\\\\rho\\end{matrix}\\right]$"
                        ],
                        "text/plain": [
                            "<IPython.core.display.Math object>"
                        ]
                    },
                    "metadata": {},
                    "output_type": "display_data"
                }
            ],
            "source": [
                "delta_t = sym.Symbol('\\Delta t')\n",
                "p_x, p_y, theta, v, phi, a, rho = sym.symbols('p_x p_y theta v phi a rho')\n",
                "\n",
                "x = sym.Matrix([p_x, p_y, v, theta, phi])\n",
                "u = sym.Matrix([a, rho])\n",
                "display(Math('x = ' + sym.latex(x) + '\\;u = ' + sym.latex(u)))"
            ]
        },
        {
            "cell_type": "code",
            "execution_count": 56,
            "id": "4da9e89b-2273-4c10-b57b-793b342d15ee",
            "metadata": {
                "tags": []
            },
            "outputs": [
                {
                    "name": "stdout",
                    "output_type": "stream",
                    "text": [
                        "Continuous time:\n"
                    ]
                },
                {
                    "data": {
                        "text/latex": [
                            "$\\displaystyle A = \\left[\\begin{matrix}0 & 0 & \\cos{\\left(\\theta \\right)} & - v \\sin{\\left(\\theta \\right)} & 0\\\\0 & 0 & \\sin{\\left(\\theta \\right)} & v \\cos{\\left(\\theta \\right)} & 0\\\\0 & 0 & 0 & 0 & 0\\\\0 & 0 & \\tan{\\left(\\phi \\right)} & 0 & v \\left(\\tan^{2}{\\left(\\phi \\right)} + 1\\right)\\\\0 & 0 & 0 & 0 & 0\\end{matrix}\\right]\\;B = \\left[\\begin{matrix}0 & 0\\\\0 & 0\\\\1 & 0\\\\0 & 0\\\\0 & 1\\end{matrix}\\right]$"
                        ],
                        "text/plain": [
                            "<IPython.core.display.Math object>"
                        ]
                    },
                    "metadata": {},
                    "output_type": "display_data"
                },
                {
                    "name": "stdout",
                    "output_type": "stream",
                    "text": [
                        "Discrete Time:\n"
                    ]
                },
                {
                    "data": {
                        "text/latex": [
                            "$\\displaystyle A_d = \\left[\\begin{matrix}1 & 0 & \\frac{\\Delta t \\left(- \\Delta t v \\sin{\\left(\\theta \\right)} \\tan{\\left(\\phi \\right)} + 2 \\cos{\\left(\\theta \\right)}\\right)}{2} & - \\Delta t v \\sin{\\left(\\theta \\right)} & - \\frac{\\Delta t^{2} v^{2} \\sin{\\left(\\theta \\right)}}{2 \\cos^{2}{\\left(\\phi \\right)}}\\\\0 & 1 & \\frac{\\Delta t \\left(\\Delta t v \\cos{\\left(\\theta \\right)} \\tan{\\left(\\phi \\right)} + 2 \\sin{\\left(\\theta \\right)}\\right)}{2} & \\Delta t v \\cos{\\left(\\theta \\right)} & \\frac{\\Delta t^{2} v^{2} \\cos{\\left(\\theta \\right)}}{2 \\cos^{2}{\\left(\\phi \\right)}}\\\\0 & 0 & 1 & 0 & 0\\\\0 & 0 & \\Delta t \\tan{\\left(\\phi \\right)} & 1 & \\frac{\\Delta t v}{\\cos^{2}{\\left(\\phi \\right)}}\\\\0 & 0 & 0 & 0 & 1\\end{matrix}\\right]$"
                        ],
                        "text/plain": [
                            "<IPython.core.display.Math object>"
                        ]
                    },
                    "metadata": {},
                    "output_type": "display_data"
                },
                {
                    "data": {
                        "text/latex": [
                            "$\\displaystyle B_d = \\Delta t \\left[\\begin{matrix}\\frac{\\Delta t \\left(- \\Delta t v \\sin{\\left(\\theta \\right)} \\tan{\\left(\\phi \\right)} + 2 \\cos{\\left(\\theta \\right)}\\right)}{2} & - \\frac{\\Delta t^{2} v^{2} \\sin{\\left(\\theta \\right)}}{2 \\cos^{2}{\\left(\\phi \\right)}}\\\\\\frac{\\Delta t \\left(\\Delta t v \\cos{\\left(\\theta \\right)} \\tan{\\left(\\phi \\right)} + 2 \\sin{\\left(\\theta \\right)}\\right)}{2} & \\frac{\\Delta t^{2} v^{2} \\cos{\\left(\\theta \\right)}}{2 \\cos^{2}{\\left(\\phi \\right)}}\\\\1 & 0\\\\\\Delta t \\tan{\\left(\\phi \\right)} & \\frac{\\Delta t v}{\\cos^{2}{\\left(\\phi \\right)}}\\\\0 & 1\\end{matrix}\\right]$"
                        ],
                        "text/plain": [
                            "<IPython.core.display.Math object>"
                        ]
                    },
                    "metadata": {},
                    "output_type": "display_data"
                }
            ],
            "source": [
                "x_dot = sym.Matrix([\n",
                "    x[2]*sym.cos(x[3]),\n",
                "    x[2]*sym.sin(x[3]),\n",
                "    u[0],\n",
                "    x[2]*sym.tan(x[4]),\n",
                "    u[1]\n",
                "])\n",
                "\n",
                "A, B = linearize(x_dot, x, u)\n",
                "print('Continuous time:')\n",
                "display(Math('A = ' + sym.latex(A) + '\\;B = ' + sym.latex(B)))\n",
                "\n",
                "Ad, Bd = discretize(A, B, Δt)\n",
                "print('Discrete Time:')\n",
                "display(Math('A_d = ' + sym.latex(Ad)))\n",
                "display(Math('B_d = \\Delta t ' + sym.latex(Bd/Δt)))"
            ]
        },
        {
            "cell_type": "code",
            "execution_count": 22,
            "id": "bc616855-506c-46ed-a220-07dac0ebeb2b",
            "metadata": {},
            "outputs": [
                {
                    "data": {
                        "text/latex": [
                            "$\\displaystyle \\left[\\begin{matrix}\\Delta t \\left(- \\frac{\\Delta t v \\sin{\\left(\\theta \\right)} \\tan{\\left(\\phi \\right)}}{2} + \\cos{\\left(\\theta \\right)}\\right) & - \\frac{\\Delta t^{2} v^{2} \\sin{\\left(\\theta \\right)}}{2 \\cos^{2}{\\left(\\phi \\right)}}\\\\\\Delta t \\left(\\frac{\\Delta t v \\cos{\\left(\\theta \\right)} \\tan{\\left(\\phi \\right)}}{2} + \\sin{\\left(\\theta \\right)}\\right) & \\frac{\\Delta t^{2} v^{2} \\cos{\\left(\\theta \\right)}}{2 \\cos^{2}{\\left(\\phi \\right)}}\\\\1 & 0\\\\\\Delta t \\tan{\\left(\\phi \\right)} & \\frac{\\Delta t v}{\\cos^{2}{\\left(\\phi \\right)}}\\\\0 & 1\\end{matrix}\\right]$"
                        ],
                        "text/plain": [
                            "Matrix([\n",
                            "[\\Delta t*(-\\Delta t*v*sin(theta)*tan(phi)/2 + cos(theta)), -\\Delta t**2*v**2*sin(theta)/(2*cos(phi)**2)],\n",
                            "[ \\Delta t*(\\Delta t*v*cos(theta)*tan(phi)/2 + sin(theta)),  \\Delta t**2*v**2*cos(theta)/(2*cos(phi)**2)],\n",
                            "[                                                        1,                                            0],\n",
                            "[                                        \\Delta t*tan(phi),                       \\Delta t*v/cos(phi)**2],\n",
                            "[                                                        0,                                            1]])"
                        ]
                    },
                    "execution_count": 22,
                    "metadata": {},
                    "output_type": "execute_result"
                }
            ],
            "source": [
                "Bd.simplify()\n",
                "Bd / Δt"
            ]
        },
        {
            "cell_type": "markdown",
            "id": "8cc690da-b9a9-448c-a8fe-45a113170f27",
            "metadata": {
                "tags": []
            },
            "source": [
                "## Double Integrator Dynamics [3]\n",
                "- The double integrator model is a canonical second order linear system often used to demostrate control principles. \n",
                "- This can be represented in the discretized equation as:\n",
                "$$x_{k+1} = A x_k + B u_k \n",
                "= \\begin{bmatrix} 1 & \\Delta t \\\\ 0 & 1\\end{bmatrix} x_k + \\begin{bmatrix} \\frac{\\Delta t^2}{2} \\\\ \\Delta t \\end{bmatrix} u_k$$"
            ]
        },
        {
            "cell_type": "code",
            "execution_count": 19,
            "id": "86b326ea-e90f-4536-98a0-2c8a07f48ef3",
            "metadata": {},
            "outputs": [
                {
                    "data": {
                        "text/latex": [
                            "$\\displaystyle x = \\left[\\begin{matrix}p_{x}\\\\v_{x}\\end{matrix}\\right]\\;u = \\left[\\begin{matrix}a_{x}\\end{matrix}\\right]$"
                        ],
                        "text/plain": [
                            "<IPython.core.display.Math object>"
                        ]
                    },
                    "metadata": {},
                    "output_type": "display_data"
                }
            ],
            "source": [
                "# dt = sym.Symbol('\\Delta t')\n",
                "dt, p_x, p_y, v_x, v_y, a_x, a_y = sym.symbols('dt p_x p_y v_x v_y a_x a_y')\n",
                "\n",
                "x = sym.Matrix([p_x, v_x])\n",
                "u = sym.Matrix([a_x])\n",
                "display(Math('x = ' + sym.latex(x) + '\\;u = ' + sym.latex(u)))"
            ]
        },
        {
            "cell_type": "code",
            "execution_count": 28,
            "id": "1c3a3139-68a3-4b85-8822-3e0d19d006ef",
            "metadata": {},
            "outputs": [
                {
                    "data": {
                        "text/latex": [
                            "$\\displaystyle \\left[\\begin{matrix}dt\\\\1\\end{matrix}\\right]$"
                        ],
                        "text/plain": [
                            "Matrix([\n",
                            "[dt],\n",
                            "[ 1]])"
                        ]
                    },
                    "execution_count": 28,
                    "metadata": {},
                    "output_type": "execute_result"
                }
            ],
            "source": [
                "x_dot = sym.Matrix([\n",
                "    v_x + a_x*dt,\n",
                "    # v_y + a_y*Δt,\n",
                "    a_x,\n",
                "    # a_y\n",
                "])\n",
                "\n",
                "A = x_dot.jacobian(x)\n",
                "B = x_dot.jacobian(u)\n",
                "B"
            ]
        },
        {
            "cell_type": "markdown",
            "id": "e9847731-f9d0-4759-97f7-85bebffe610a",
            "metadata": {
                "tags": []
            },
            "source": [
                "## Augmented Unicycle Dynamics [2]\n",
                "A unicycle can be modelled using the following augmented continuous dynamics:\n",
                "\n",
                "$$\\begin{aligned}\n",
                "x &= \\begin{bmatrix} p_x & p_y & v & \\sin(\\theta) & \\cos(\\theta) \\end{bmatrix} \\\\\n",
                "u &= \\begin{bmatrix} a & \\omega\\end{bmatrix}\n",
                "\\end{aligned}$$\n",
                "\n",
                "\n",
                "$$\\begin{aligned}\n",
                "\\dot p_{x} &= v\\cos\\theta \\\\\n",
                "\\dot p_{y} &= v\\sin\\theta \\\\\n",
                "\\dot \\theta &= \\omega \\\\\n",
                "\\dot v &= a\n",
                "\\end{aligned}$$"
            ]
        },
        {
            "cell_type": "code",
            "execution_count": 26,
            "id": "b948ff91-7df4-43cf-b433-258ff61f3339",
            "metadata": {
                "tags": [
                    "hide_input"
                ]
            },
            "outputs": [
                {
                    "data": {
                        "text/latex": [
                            "$\\displaystyle x = \\left[\\begin{matrix}p_{x}\\\\p_{y}\\\\v\\\\\\sin \\Theta\\\\\\cos \\Theta\\end{matrix}\\right]\\;u = \\left[\\begin{matrix}a\\\\\\omega\\end{matrix}\\right]$"
                        ],
                        "text/plain": [
                            "<IPython.core.display.Math object>"
                        ]
                    },
                    "metadata": {},
                    "output_type": "display_data"
                }
            ],
            "source": [
                "Δt = sym.Symbol('\\Delta t')\n",
                "sθ = sym.Symbol('\\sin \\Theta')\n",
                "cθ = sym.Symbol('\\cos \\Theta')\n",
                "p_x, p_y, v, omega, a = sym.symbols('p_x p_y v omega a')\n",
                "\n",
                "x = sym.Matrix([p_x, p_y, v, sθ, cθ])\n",
                "u = sym.Matrix([a, omega])\n",
                "display(Math('x = ' + sym.latex(x) + '\\;u = ' + sym.latex(u)))"
            ]
        },
        {
            "cell_type": "code",
            "execution_count": null,
            "id": "7e704fe3-0f87-4cbb-ac47-2c69326cdf04",
            "metadata": {
                "tags": [
                    "hide_input"
                ]
            },
            "outputs": [
                {
                    "name": "stdout",
                    "output_type": "stream",
                    "text": [
                        "Continuous Time:\n"
                    ]
                },
                {
                    "data": {
                        "text/latex": [
                            "$\\displaystyle A = \\left[\\begin{matrix}0 & 0 & \\cos \\Theta & 0 & v\\\\0 & 0 & \\sin \\Theta & v & 0\\\\0 & 0 & 0 & 0 & 0\\\\0 & 0 & 0 & 0 & \\omega\\\\0 & 0 & 0 & - \\omega & 0\\end{matrix}\\right]\\;B = \\left[\\begin{matrix}0 & 0\\\\0 & 0\\\\1 & 0\\\\0 & \\cos \\Theta\\\\0 & - \\sin \\Theta\\end{matrix}\\right]$"
                        ],
                        "text/plain": [
                            "<IPython.core.display.Math object>"
                        ]
                    },
                    "metadata": {},
                    "output_type": "display_data"
                },
                {
                    "name": "stdout",
                    "output_type": "stream",
                    "text": [
                        "Discrete Time:\n"
                    ]
                },
                {
                    "data": {
                        "text/latex": [
                            "$\\displaystyle A_d = \\left[\\begin{matrix}1 & 0 & \\Delta t \\cos \\Theta & \\frac{v e^{i \\Delta t \\omega}}{2 \\omega} - \\frac{v}{\\omega} + \\frac{v e^{- i \\Delta t \\omega}}{2 \\omega} & \\frac{v \\sin{\\left(\\Delta t \\omega \\right)}}{\\omega}\\\\0 & 1 & \\Delta t \\sin \\Theta & \\frac{v \\sin{\\left(\\Delta t \\omega \\right)}}{\\omega} & - \\frac{v e^{i \\Delta t \\omega}}{2 \\omega} + \\frac{v}{\\omega} - \\frac{v e^{- i \\Delta t \\omega}}{2 \\omega}\\\\0 & 0 & 1 & 0 & 0\\\\0 & 0 & 0 & \\cos{\\left(\\Delta t \\omega \\right)} & \\sin{\\left(\\Delta t \\omega \\right)}\\\\0 & 0 & 0 & - \\sin{\\left(\\Delta t \\omega \\right)} & \\cos{\\left(\\Delta t \\omega \\right)}\\end{matrix}\\right]\\;B_d = \\Delta t \\left[\\begin{matrix}\\Delta t \\cos \\Theta & \\frac{\\Delta t \\cos \\Theta \\left(\\frac{v e^{i \\Delta t \\omega}}{2 \\omega} - \\frac{v}{\\omega} + \\frac{v e^{- i \\Delta t \\omega}}{2 \\omega}\\right) - \\frac{\\Delta t \\sin \\Theta v \\sin{\\left(\\Delta t \\omega \\right)}}{\\omega}}{\\Delta t}\\\\\\Delta t \\sin \\Theta & \\frac{\\frac{\\Delta t \\cos \\Theta v \\sin{\\left(\\Delta t \\omega \\right)}}{\\omega} - \\Delta t \\sin \\Theta \\left(- \\frac{v e^{i \\Delta t \\omega}}{2 \\omega} + \\frac{v}{\\omega} - \\frac{v e^{- i \\Delta t \\omega}}{2 \\omega}\\right)}{\\Delta t}\\\\1 & 0\\\\0 & \\frac{\\Delta t \\cos \\Theta \\cos{\\left(\\Delta t \\omega \\right)} - \\Delta t \\sin \\Theta \\sin{\\left(\\Delta t \\omega \\right)}}{\\Delta t}\\\\0 & \\frac{- \\Delta t \\cos \\Theta \\sin{\\left(\\Delta t \\omega \\right)} - \\Delta t \\sin \\Theta \\cos{\\left(\\Delta t \\omega \\right)}}{\\Delta t}\\end{matrix}\\right]$"
                        ],
                        "text/plain": [
                            "<IPython.core.display.Math object>"
                        ]
                    },
                    "metadata": {},
                    "output_type": "display_data"
                },
                {
                    "name": "stdout",
                    "output_type": "stream",
                    "text": [
                        "Others:\n"
                    ]
                },
                {
                    "data": {
                        "text/latex": [
                            "$\\displaystyle B = \\Delta t\\left[\\begin{matrix}0 & 0\\\\0 & 0\\\\1 & 0\\\\0 & 1\\end{matrix}\\right]$"
                        ],
                        "text/plain": [
                            "<IPython.core.display.Math object>"
                        ]
                    },
                    "metadata": {},
                    "output_type": "display_data"
                }
            ],
            "source": [
                "x_dot = sym.Matrix([\n",
                "    x[2]*x[4],\n",
                "    x[2]*x[3],\n",
                "    u[0],\n",
                "    u[1]*x[4], # sym.sin(u[1]),\n",
                "    -u[1]*x[3] # sym.cos(u[1])\n",
                "])\n",
                "\n",
                "A, B = linearize(x_dot, x, u)\n",
                "print('Continuous Time:')\n",
                "display(Math('A = ' + sym.latex(A) + '\\;B = ' + sym.latex(B)))\n",
                "\n",
                "Ad, Bd = discretize(A, B, Δt)\n",
                "print('Discrete Time:')\n",
                "display(Math('A_d = ' + sym.latex(Ad) + '\\;B_d = \\Delta t ' + sym.latex(Bd/Δt)))\n",
                "\n",
                "print('Others:')\n",
                "Bo = sym.Matrix([[0, 0], [0, 0], [Δt, 0], [0, Δt]])\n",
                "display(Math('B = \\Delta t' + sym.latex(Bo/Δt)))"
            ]
        },
        {
            "cell_type": "markdown",
            "id": "2af875ae-af27-43f7-9a0c-c8c75d54c9ae",
            "metadata": {
                "tags": []
            },
            "source": [
                "## Quadraticizing Costs"
            ]
        },
        {
            "cell_type": "code",
            "execution_count": 27,
            "id": "1338d8fd-0c09-448c-a295-191f6dd78050",
            "metadata": {},
            "outputs": [],
            "source": [
                "def quadraticize(L, x, u):\n",
                "    \"\"\"Quadraticize the costs with respect to the states and controls.\"\"\"\n",
                "    \n",
                "    L_x = L.jacobian(x)\n",
                "    L_u = L.jacobian(u)\n",
                "    L_xx = L_x.jacobian(x)\n",
                "    L_uu = L_u.jacobian(u)\n",
                "    L_xu = L_x.jacobian(u)\n",
                "    L_ux = L_u.jacobian(x)\n",
                "    \n",
                "    return L_x, L_u, L_xx, L_uu, L_xu, L_ux"
            ]
        },
        {
            "cell_type": "code",
            "execution_count": 28,
            "id": "b29e2078-a6f3-45b2-8d1c-4c8431008a8b",
            "metadata": {},
            "outputs": [],
            "source": [
                "def quadraticize_reference(x, u, x_r, Q, R, terminal=False):\n",
                "    \"\"\"Quadraticize reference costs analytically.\"\"\"\n",
                "    \n",
                "    L_x = (x - x_r).T @ (Q + Q.T)\n",
                "    L_u = u.T @ (R + R.T)\n",
                "    L_xx = Q + Q.T\n",
                "    L_uu = R + R.T\n",
                "    L_xu = sym.zeros(x.shape[0], u.shape[0])\n",
                "    L_ux = L_xu.T\n",
                "    \n",
                "    if terminal:\n",
                "        γ = sym.symbols('gamma')\n",
                "        L_x *= γ\n",
                "        L_xx *= γ\n",
                "        L_u = sym.zeros(1, u.shape[0])\n",
                "        L_uu = sym.zeros(u.shape[0])\n",
                "    \n",
                "    return L_x, L_u, L_xx, L_uu, L_xu, L_ux"
            ]
        },
        {
            "cell_type": "code",
            "execution_count": 32,
            "id": "e145e700-ad9f-4451-8d30-2e129866987d",
            "metadata": {},
            "outputs": [],
            "source": [
                "delta_t = sym.Symbol('\\Delta t')\n",
                "p_x, p_y, v, theta, omega, a = sym.symbols('p_x p_y v theta omega a')\n",
                "p_xr, p_yr, v_r, theta_r, omega_r, a_r = sym.symbols('p_xr p_yr v_r theta_r omega_r a_r')\n",
                "p_xo, p_yo = sym.symbols('p_xo p_yo')\n",
                "\n",
                "x = sym.Matrix([p_x, p_y, v, theta])\n",
                "u = sym.Matrix([omega, a])\n",
                "x_r = sym.Matrix([p_xr, p_yr, v_r, theta_r])\n",
                "x_o = sym.Matrix([p_xo, p_yo, 0, 0])"
            ]
        },
        {
            "cell_type": "code",
            "execution_count": 30,
            "id": "5cbc88b7-30f2-45cb-accf-66dbc54be55a",
            "metadata": {},
            "outputs": [],
            "source": [
                "nx, nu = 4, 2\n",
                "x = sym.MatrixSymbol('x', nx, 1)\n",
                "u = sym.MatrixSymbol('u', nu, 1)\n",
                "Q = sym.MatrixSymbol('Q', nx, nx)\n",
                "R = sym.MatrixSymbol('R', nu, nu)\n",
                "\n",
                "L = x.T @ Q @ x + u.T @ R @ u\n",
                "Lx = L.diff(x)\n",
                "Lu = L.diff(u)\n",
                "Lxx = Lx.diff(x)\n",
                "Luu = Lu.diff(u)\n",
                "Lux = Lu.diff(x)"
            ]
        },
        {
            "cell_type": "code",
            "execution_count": 31,
            "id": "b27d41bb-4242-4657-834b-202cbfd9d0df",
            "metadata": {},
            "outputs": [
                {
                    "data": {
                        "text/latex": [
                            "$\\displaystyle Q = \\left[\\begin{matrix}1 & 0 & 0 & 0\\\\0 & 1 & 0 & 0\\\\0 & 0 & 1 & 0\\\\0 & 0 & 0 & 1\\end{matrix}\\right]$"
                        ],
                        "text/plain": [
                            "<IPython.core.display.Math object>"
                        ]
                    },
                    "metadata": {},
                    "output_type": "display_data"
                },
                {
                    "data": {
                        "text/latex": [
                            "$\\displaystyle R = \\left[\\begin{matrix}1 & 0\\\\0 & 1\\end{matrix}\\right]$"
                        ],
                        "text/plain": [
                            "<IPython.core.display.Math object>"
                        ]
                    },
                    "metadata": {},
                    "output_type": "display_data"
                }
            ],
            "source": [
                "Q = sym.eye(x.shape[0])\n",
                "R = sym.eye(u.shape[0])\n",
                "# Q = sym.Matrix(np.arange(16)).reshape(4,4)\n",
                "# Q = sym.diag(1, 1, 0, 0)\n",
                "# Q[0,-1] = 1.0\n",
                "# R = sym.diag(2.0, 1.0)\n",
                "# R[0,-1] = 3.0\n",
                "\n",
                "display(Math('Q = ' + sym.latex(Q)))\n",
                "display(Math('R = ' + sym.latex(R)))"
            ]
        },
        {
            "cell_type": "code",
            "execution_count": 158,
            "id": "ebf1b68b-3b9d-419f-94f9-306e4b18695a",
            "metadata": {},
            "outputs": [
                {
                    "data": {
                        "text/latex": [
                            "$\\displaystyle \\left[\\begin{matrix}2 & 0 & 0 & 0\\\\0 & 2 & 0 & 0\\\\0 & 0 & 2 & 0\\\\0 & 0 & 0 & 2\\end{matrix}\\right]$"
                        ],
                        "text/plain": [
                            "Matrix([\n",
                            "[2, 0, 0, 0],\n",
                            "[0, 2, 0, 0],\n",
                            "[0, 0, 2, 0],\n",
                            "[0, 0, 0, 2]])"
                        ]
                    },
                    "execution_count": 158,
                    "metadata": {},
                    "output_type": "execute_result"
                }
            ],
            "source": [
                "L.jacobian(x).jacobian(x)"
            ]
        },
        {
            "cell_type": "code",
            "execution_count": 12,
            "id": "5eb1ba36-7b6a-4245-810a-97327c26eeab",
            "metadata": {},
            "outputs": [
                {
                    "ename": "AttributeError",
                    "evalue": "'MatAdd' object has no attribute 'jacobian'",
                    "output_type": "error",
                    "traceback": [
                        "\u001b[0;31m---------------------------------------------------------------------------\u001b[0m",
                        "\u001b[0;31mAttributeError\u001b[0m                            Traceback (most recent call last)",
                        "Input \u001b[0;32mIn [12]\u001b[0m, in \u001b[0;36m<cell line: 2>\u001b[0;34m()\u001b[0m\n\u001b[1;32m      1\u001b[0m L \u001b[38;5;241m=\u001b[39m (x \u001b[38;5;241m-\u001b[39m x_r)\u001b[38;5;241m.\u001b[39mT \u001b[38;5;241m@\u001b[39m Q \u001b[38;5;241m@\u001b[39m (x \u001b[38;5;241m-\u001b[39m x_r) \u001b[38;5;241m+\u001b[39m (u\u001b[38;5;241m.\u001b[39mT \u001b[38;5;241m@\u001b[39m R \u001b[38;5;241m@\u001b[39m u)\n\u001b[0;32m----> 2\u001b[0m L_x, L_u, L_xx, L_uu, L_xu, L_ux \u001b[38;5;241m=\u001b[39m \u001b[43mquadraticize\u001b[49m\u001b[43m(\u001b[49m\u001b[43mL\u001b[49m\u001b[43m,\u001b[49m\u001b[43m \u001b[49m\u001b[43mx\u001b[49m\u001b[43m,\u001b[49m\u001b[43m \u001b[49m\u001b[43mu\u001b[49m\u001b[43m)\u001b[49m\n\u001b[1;32m      3\u001b[0m L_x_a, L_u_a, L_xx_a, L_uu_a, L_xu_a, L_ux_a \u001b[38;5;241m=\u001b[39m quadraticize_reference(x, u, x_r, Q, R)\n\u001b[1;32m      5\u001b[0m display(Math(\u001b[38;5;124m'\u001b[39m\u001b[38;5;124mL_u = \u001b[39m\u001b[38;5;124m'\u001b[39m \u001b[38;5;241m+\u001b[39m sym\u001b[38;5;241m.\u001b[39mlatex(L_u) \u001b[38;5;241m+\u001b[39m \u001b[38;5;124m'\u001b[39m\u001b[38;5;124m = u^T (R + R^T) = \u001b[39m\u001b[38;5;124m'\u001b[39m \u001b[38;5;241m+\u001b[39m sym\u001b[38;5;241m.\u001b[39mlatex(L_u_a)))\n",
                        "Input \u001b[0;32mIn [5]\u001b[0m, in \u001b[0;36mquadraticize\u001b[0;34m(L, x, u)\u001b[0m\n\u001b[1;32m      1\u001b[0m \u001b[38;5;28;01mdef\u001b[39;00m \u001b[38;5;21mquadraticize\u001b[39m(L, x, u):\n\u001b[1;32m      2\u001b[0m     \u001b[38;5;124;03m\"\"\"Quadraticize the costs with respect to the states and controls.\"\"\"\u001b[39;00m\n\u001b[0;32m----> 4\u001b[0m     L_x \u001b[38;5;241m=\u001b[39m \u001b[43mL\u001b[49m\u001b[38;5;241;43m.\u001b[39;49m\u001b[43mjacobian\u001b[49m(x)\n\u001b[1;32m      5\u001b[0m     L_u \u001b[38;5;241m=\u001b[39m L\u001b[38;5;241m.\u001b[39mjacobian(u)\n\u001b[1;32m      6\u001b[0m     L_xx \u001b[38;5;241m=\u001b[39m L_x\u001b[38;5;241m.\u001b[39mjacobian(x)\n",
                        "\u001b[0;31mAttributeError\u001b[0m: 'MatAdd' object has no attribute 'jacobian'"
                    ]
                }
            ],
            "source": [
                "L = (x - x_r).T @ Q @ (x - x_r) + (u.T @ R @ u)\n",
                "L_x, L_u, L_xx, L_uu, L_xu, L_ux = quadraticize(L, x, u)\n",
                "L_x_a, L_u_a, L_xx_a, L_uu_a, L_xu_a, L_ux_a = quadraticize_reference(x, u, x_r, Q, R)\n",
                "\n",
                "display(Math('L_u = ' + sym.latex(L_u) + ' = u^T (R + R^T) = ' + sym.latex(L_u_a)))\n",
                "display(Math('L_x = ' + sym.latex(L_x) + ' = (x - x_r)^T (Q + Q^T)'))\n",
                "display(Math('L_{xx} = ' + sym.latex(L_xx) + ' = Q + Q^T = ' + sym.latex(L_xx_a)))\n",
                "display(Math('L_{uu} = ' + sym.latex(L_uu) + ' = R + R^T = ' + sym.latex(L_uu_a)))\n",
                "display(Math('L_{xu} = L_{ux}^T = ' + sym.latex(L_xu_a)))"
            ]
        },
        {
            "cell_type": "code",
            "execution_count": 13,
            "id": "fd729603-3279-4a1b-a7d8-2188e16a4292",
            "metadata": {},
            "outputs": [
                {
                    "ename": "NameError",
                    "evalue": "name 'L_x' is not defined",
                    "output_type": "error",
                    "traceback": [
                        "\u001b[0;31m---------------------------------------------------------------------------\u001b[0m",
                        "\u001b[0;31mNameError\u001b[0m                                 Traceback (most recent call last)",
                        "Input \u001b[0;32mIn [13]\u001b[0m, in \u001b[0;36m<cell line: 1>\u001b[0;34m()\u001b[0m\n\u001b[0;32m----> 1\u001b[0m dL_dxu \u001b[38;5;241m=\u001b[39m \u001b[43mL_x\u001b[49m\u001b[38;5;241m.\u001b[39mrow_join(L_u) \u001b[38;5;66;03m# Gradient\u001b[39;00m\n\u001b[1;32m      2\u001b[0m dL_dxu\n",
                        "\u001b[0;31mNameError\u001b[0m: name 'L_x' is not defined"
                    ]
                }
            ],
            "source": [
                "dL_dxu = L_x.row_join(L_u) # Gradient\n",
                "dL_dxu"
            ]
        },
        {
            "cell_type": "code",
            "execution_count": 154,
            "id": "6f8e7052-6cbd-4cfd-bee9-0d7adaf4192a",
            "metadata": {},
            "outputs": [
                {
                    "data": {
                        "text/latex": [
                            "$\\displaystyle \\left[\\begin{matrix}2 & 0 & 0 & 0 & 0 & 0\\\\0 & 2 & 0 & 0 & 0 & 0\\\\0 & 0 & 2 & 0 & 0 & 0\\\\0 & 0 & 0 & 2 & 0 & 0\\\\0 & 0 & 0 & 0 & 2 & 0\\\\0 & 0 & 0 & 0 & 0 & 2\\end{matrix}\\right]$"
                        ],
                        "text/plain": [
                            "Matrix([\n",
                            "[2, 0, 0, 0, 0, 0],\n",
                            "[0, 2, 0, 0, 0, 0],\n",
                            "[0, 0, 2, 0, 0, 0],\n",
                            "[0, 0, 0, 2, 0, 0],\n",
                            "[0, 0, 0, 0, 2, 0],\n",
                            "[0, 0, 0, 0, 0, 2]])"
                        ]
                    },
                    "execution_count": 154,
                    "metadata": {},
                    "output_type": "execute_result"
                }
            ],
            "source": [
                "dL2_dxu2 = sym.Matrix(sym.BlockMatrix([\n",
                "    [L_xx, L_xu],\n",
                "    [L_xu.T, L_uu]\n",
                "])) # Hessian\n",
                "dL2_dxu2"
            ]
        },
        {
            "cell_type": "code",
            "execution_count": 14,
            "id": "5779d73b-b231-45be-9a97-bedc99e3517d",
            "metadata": {},
            "outputs": [
                {
                    "ename": "AttributeError",
                    "evalue": "'MatMul' object has no attribute 'jacobian'",
                    "output_type": "error",
                    "traceback": [
                        "\u001b[0;31m---------------------------------------------------------------------------\u001b[0m",
                        "\u001b[0;31mAttributeError\u001b[0m                            Traceback (most recent call last)",
                        "Input \u001b[0;32mIn [14]\u001b[0m, in \u001b[0;36m<cell line: 3>\u001b[0;34m()\u001b[0m\n\u001b[1;32m      1\u001b[0m γ \u001b[38;5;241m=\u001b[39m sym\u001b[38;5;241m.\u001b[39msymbols(\u001b[38;5;124m'\u001b[39m\u001b[38;5;124mgamma\u001b[39m\u001b[38;5;124m'\u001b[39m)\n\u001b[1;32m      2\u001b[0m L_N \u001b[38;5;241m=\u001b[39m γ \u001b[38;5;241m*\u001b[39m (x \u001b[38;5;241m-\u001b[39m x_r)\u001b[38;5;241m.\u001b[39mT \u001b[38;5;241m@\u001b[39m Q \u001b[38;5;241m@\u001b[39m (x \u001b[38;5;241m-\u001b[39m x_r)\n\u001b[0;32m----> 3\u001b[0m L_x, L_u, L_xx, L_uu, L_xu, L_ux \u001b[38;5;241m=\u001b[39m \u001b[43mquadraticize\u001b[49m\u001b[43m(\u001b[49m\u001b[43mL_N\u001b[49m\u001b[43m,\u001b[49m\u001b[43m \u001b[49m\u001b[43mx\u001b[49m\u001b[43m,\u001b[49m\u001b[43m \u001b[49m\u001b[43mu\u001b[49m\u001b[43m)\u001b[49m\n\u001b[1;32m      4\u001b[0m L_x_a, L_u_a, L_xx_a, L_uu_a, L_xu_a, L_ux_a \u001b[38;5;241m=\u001b[39m quadraticize_reference(x, u, x_r, Q, R, terminal\u001b[38;5;241m=\u001b[39m\u001b[38;5;28;01mTrue\u001b[39;00m)\n\u001b[1;32m      6\u001b[0m display(Math(\u001b[38;5;124m'\u001b[39m\u001b[38;5;124mL_u = \u001b[39m\u001b[38;5;124m'\u001b[39m \u001b[38;5;241m+\u001b[39m sym\u001b[38;5;241m.\u001b[39mlatex(L_u) \u001b[38;5;241m+\u001b[39m \u001b[38;5;124m'\u001b[39m\u001b[38;5;124m = u^T (R + R^T) = \u001b[39m\u001b[38;5;124m'\u001b[39m \u001b[38;5;241m+\u001b[39m sym\u001b[38;5;241m.\u001b[39mlatex(L_u_a)))\n",
                        "Input \u001b[0;32mIn [5]\u001b[0m, in \u001b[0;36mquadraticize\u001b[0;34m(L, x, u)\u001b[0m\n\u001b[1;32m      1\u001b[0m \u001b[38;5;28;01mdef\u001b[39;00m \u001b[38;5;21mquadraticize\u001b[39m(L, x, u):\n\u001b[1;32m      2\u001b[0m     \u001b[38;5;124;03m\"\"\"Quadraticize the costs with respect to the states and controls.\"\"\"\u001b[39;00m\n\u001b[0;32m----> 4\u001b[0m     L_x \u001b[38;5;241m=\u001b[39m \u001b[43mL\u001b[49m\u001b[38;5;241;43m.\u001b[39;49m\u001b[43mjacobian\u001b[49m(x)\n\u001b[1;32m      5\u001b[0m     L_u \u001b[38;5;241m=\u001b[39m L\u001b[38;5;241m.\u001b[39mjacobian(u)\n\u001b[1;32m      6\u001b[0m     L_xx \u001b[38;5;241m=\u001b[39m L_x\u001b[38;5;241m.\u001b[39mjacobian(x)\n",
                        "\u001b[0;31mAttributeError\u001b[0m: 'MatMul' object has no attribute 'jacobian'"
                    ]
                }
            ],
            "source": [
                "γ = sym.symbols('gamma')\n",
                "L_N = γ * (x - x_r).T @ Q @ (x - x_r)\n",
                "L_x, L_u, L_xx, L_uu, L_xu, L_ux = quadraticize(L_N, x, u)\n",
                "L_x_a, L_u_a, L_xx_a, L_uu_a, L_xu_a, L_ux_a = quadraticize_reference(x, u, x_r, Q, R, terminal=True)\n",
                "\n",
                "display(Math('L_u = ' + sym.latex(L_u) + ' = u^T (R + R^T) = ' + sym.latex(L_u_a)))\n",
                "display(Math('L_x = ' + sym.latex(L_x.T) + ' = (x - x_r)^T (Q + Q^T) = ' + sym.latex(L_x_a.T)))\n",
                "display(Math('L_{xx} = ' + sym.latex(L_xx) + ' = Q + Q^T = ' + sym.latex(L_xx_a)))\n",
                "display(Math('L_{uu} = ' + sym.latex(L_uu) + ' = R + R^T = ' + sym.latex(L_uu_a)))\n",
                "display(Math('L_{xu} = L_{ux}^T = ' + sym.latex(L_xu_a)))"
            ]
        },
        {
            "cell_type": "markdown",
            "id": "f3f1cb6c-ce19-4fca-bc41-e81726e36371",
            "metadata": {},
            "source": [
                "### Obstacle Cost\n",
                "$$L = \\min(0, d-d_{max})^2$$"
            ]
        },
        {
            "cell_type": "code",
            "execution_count": 33,
            "id": "c05dbd6c-b618-4514-94df-21b478c48f92",
            "metadata": {},
            "outputs": [],
            "source": [
                "from sympy.functions.elementary.piecewise import Piecewise\n",
                "import matplotlib.pyplot as plt"
            ]
        },
        {
            "cell_type": "code",
            "execution_count": 34,
            "id": "4492a169-062a-4fa6-974c-e67923aedb28",
            "metadata": {},
            "outputs": [
                {
                    "data": {
                        "application/vnd.jupyter.widget-view+json": {
                            "model_id": "0bc1867963e34f9a815f035099f5ebac",
                            "version_major": 2,
                            "version_minor": 0
                        },
                        "image/png": "[encoded data removed]",
                        "text/html": [
                            "\n",
                            "            <div style=\"display: inline-block;\">\n",
                            "                <div class=\"jupyter-widgets widget-label\" style=\"text-align: center;\">\n",
                            "                    Figure\n",
                            "                </div>\n",
                            "                <img src='data:image/png;base64,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' width=640.0/>\n",
                            "            </div>\n",
                            "        "
                        ],
                        "text/plain": [
                            "Canvas(toolbar=Toolbar(toolitems=[('Home', 'Reset original view', 'home', 'home'), ('Back', 'Back to previous …"
                        ]
                    },
                    "metadata": {},
                    "output_type": "display_data"
                },
                {
                    "data": {
                        "application/vnd.jupyter.widget-view+json": {
                            "model_id": "6765f3647e5a4217b170bc584dd7a436",
                            "version_major": 2,
                            "version_minor": 0
                        },
                        "image/png": "[encoded data removed]",
                        "text/html": [
                            "\n",
                            "            <div style=\"display: inline-block;\">\n",
                            "                <div class=\"jupyter-widgets widget-label\" style=\"text-align: center;\">\n",
                            "                    Figure\n",
                            "                </div>\n",
                            "                <img src='data:image/png;base64,iVBORw0KGgoAAAANSUhEUgAAAoAAAAHgCAYAAAA10dzkAAAAOXRFWHRTb2Z0d2FyZQBNYXRwbG90bGliIHZlcnNpb24zLjUuMSwgaHR0cHM6Ly9tYXRwbG90bGliLm9yZy/YYfK9AAAACXBIWXMAAA9hAAAPYQGoP6dpAAA8hUlEQVR4nO3deXiU9cH18TPZE0jCEhIIJIR9S1AgguACbiwCAuGl1arVVmmtWqG4sSmIQlDQ2urjQmutXay2DwFUFEFBFkURFAlhiWFLBAKEQCYLmSQz9/tHlEcqQoBJfjNzfz/XNVfNZJYDo8npPctxWJZlCQAAALYRZDoAAAAAGhYFEAAAwGYogAAAADZDAQQAALAZCiAAAIDNUAABAABshgIIAABgMxRAAAAAm6EAAgAA2AwFEAAAwGYogAAAADZDAQQAALAZCiAAAIDNUADPkWVZcjqdsizLdBQAAIDzQgE8R6WlpYqNjVVpaanpKAAAAOeFAggAAGAzFEAAAACboQACAADYDAUQAADAZiiAAAAANkMBBAAAsBkKIAAAgM1QAAEAAGyGAggAAGAzFEAAAACboQACAADYDAUQAADAZiiAAAAANkMBBAAAsBkKIAAAgM3YsgC+8MILateunSIiItSnTx+tXbvWdCQAAIAGY7sC+Oabb2rixImaNm2avvzyS11xxRUaNmyY8vPzTUcDAABoEA7LsizTIRpSv3791Lt3b7344osnz+vWrZtGjx6tzMzMs17f6XQqNjZWJSUliomJqc+oAAAA9SLEdABvsSxLpaWlZ7xMVVWVNm7cqPvuu09Op/Pk+QMHDtSaNWtOOe87LpdLLpfr5Nff3cfpLgvAfpbnFOqzPUdNxwDgQ0KCgzRlWLcGua/o6Gg5HI5zvl7AHAH87sgcAACAXZzvM5IBUwDrcgTw4MGD6tq1q1asWKG+ffuePH/evHl64403tGnTph9c57+PAB48eFB9+/bVtm3b1Lp1a+/9AeA1TqdTSUlJKigo4Gl6HxQoj09VjUc/efkT5R0uV7dW0bqqS7zpSF7hqnLpmaef0aT7Jyk8LNx0HJwGj5Fvc1W59PRTT2nbouca5Gfc+R4BDJingB0Ox1n/oiMiIhQcHKzS0tJTLut0OpWYmHhOD1R0dLRf//Kyg5iYGB4jH+bvj88fPvhau0sstWjWRG/cM1BNG4WZjuQVTqdTM3/yv/rdkFf8+vEJZDxGvq328VmsmJjXfPrxsdW7gMPCwtSnTx+tWLHilPNXrFihAQMGGEoFwN/kHS7V/6zKkyQ9OrJ7wJQ/APYRMEcA62rSpEm69dZblZ6erv79+2vBggXKz8/XXXfdZToaAD/g8ViakpWtKrdHg7q00A0XJZqOBADnzHYF8Kc//amOHj2qWbNm6eDBg0pNTdW7776rtm3b1un64eHhp/wvfE94eLhmzJjBY+Sj/P3x+dfn+fp87zFFhQXridGp5/XaG1/m74+PHfAY+TZ/eXwC5k0gDYXPAQTs65CzUtc+vVqlrho9OqK7fnl5O9ORAOC82Oo1gABwIWYsyVGpq0YXJTXRbQNSTMcBgPNGAQSAOli2tVDLcgoVEuTQ3Iw0BQcF1lO/AOyFAggAZ+GsrNajS7ZKkn51ZXt1a8XLPwD4NwogAJzFk+/t0OFSl9rFNdJ913QyHQcALhgF8Bz96U9/kiS1aNFCffr00dq1aw0ngiRlZmbqkksuUXR0tOLj4zV69Gjt3LnTdCz8iMzMTDkcDk2cONF0lLP6fG+x/vlZviRpzpg0RYQGG05Uf/bv369bbrlFzZs3V1RUlC6++OLTLiSh4dXU1Gj69Olq166dIiMj1b59e82aNUsej8d0NNtas2aNRo4cqcTERDkcDi1evPiU71uWpZkzZyoxMVGRkZEaNGiQcnJyzIQ9DQrgOXjzzTc1efJkSdK6det0xRVXaNiwYcrPzzecDKtXr9Y999yjTz/9VCtWrFBNTY0GDx6s8vJy09HwXz7//HMtWLBAPXv2NB3lrFw1bk1euEWS9NP0JPXv0Nxwovpz7NgxXXbZZQoNDdV7772nbdu26emnn1aTJk1MR4OkJ598Ui+99JKef/55bd++XU899ZTmzZun5557znQ02yovL9dFF12k559//rTff+qpp/TMM8/o+eef1+eff66WLVvquuuuO+tsbUPhY2DOQb9+/ZSamqq//OUvJz8Gplu3bho9erQyMzNNx8P3HDlyRPHx8Vq9erWuvPJK03HwrbKyMvXu3VsvvPCCnnjiCV188cV69tlnTcf6Uc+syNUfP/xacY3D9eGkgYqNCjUdqd5MnjxZH3/8Mc9q+KgRI0YoISFBr7zyysnzxo4dq6ioKP397383mAxS7RztokWLNHr0aEm1R/8SExM1ceJEPfzww5Ikl8ulhIQEPfnkk/r1r39tMG0tjgDWUVVVlTZt2qSrr776lPMHDx6sTz75xFAq/JiSkhJJUrNmzQwnwffdc889Gj58uK699lrTUc4q91CpXvyodu7tsRt6BHT5k6S33npL6enpGjdunOLj49WrV6+TL3mBeZdffrk+/PBD5ebmSpK++uorrVu3Ttdff73hZDidPXv2qLCwUIMHDz55Xnh4uAYOHOgzncF2SyDnq6ioSG63W/Hx8aecn5CQoMLCQkOpcDqWZWnSpEm6/PLLlZqaajoOvvXGG2/oiy++0Oeff246yll9N/dW7bZ0bbd4XZ/W0nSkerd79269+OKLmjRpkqZOnaoNGzbovvvuU3h4uH7+85+bjmd7Dz/8sEpKStS1a1cFBwfL7XZr9uzZuummm0xHw2l81wsSEhJOOT8hIUH79u0zEekHKIDn6L9nnyzLCrgpKH937733asuWLVq3bp3pKPhWQUGBJkyYoOXLlysiIsJ0nLP652f7tGnfMTUKC9asUYE393Y6Ho9H6enpmjNnjiSpV69eysnJ0YsvvkgB9AFvvvmm/vGPf+j1119Xjx49tHnzZk2cOFGJiYm67bbbTMfDj/DlzkABrKO4uDgFBwfr0KFDp5x/+PDhHzR8mPPb3/5Wb731ltasWaM2bdqYjoNvbdq0SYcPH1afPn1Onud2u7VmzRo9//zzcrlcCg72jXfXHiw5oSeX1b6D/KGhXZXYJNJwoobRqlUrde/e/ZTzunXrpoULFxpKhO978MEHNXnyZN14442SpLS0NO3bt0+ZmZkUQB/UsmXtswaFhYVq1arVyfN9qTPwGsA6CgsLU58+fbRq1apTzl+xYoUGDBhgKBW+Y1mW7r33XmVlZWnlypVq146NVl9yzTXXKDs7W5s3bz55Sk9P180336zNmzf7TPmzLEuPLM5RmatGvZOb6JZL25qO1GAuu+yyH3x0Um5urtq2tc/fgS+rqKhQUNCpv7KDg4P5GBgf1a5dO7Vs2VIrVqw4eV5VVZVWr17tM52BI4DnYNKkSbrlllskSTt37tTrr7+u/Px83XXXXYaT4Z577tHrr7+uJUuWKDo6+uTrL2JjYxUZaY8jOL4sOjr6B6/HbNSokZo3b+5Tr9N8b2uhPth+SKHBDs0d29NWc2+/+93vNGDAAM2ZM0c/+clPtGHDBi1YsEALFiwwHQ2SRo4cqdmzZys5OVk9evTQl19+qWeeeUa//OUvTUezrbKyMuXl5Z38es+ePdq8ebOaNWum5ORkTZw4UXPmzFGnTp3UqVMnzZkzR1FRUfrZz35mMPX3WDgn8+fPtyRZoaGhVu/eva3Vq1ebjgTLsiSd9vTqq6+ajoYfMXDgQGvChAmmY5x0vLzKSn9ihdX24Xesp9/fYTqOEW+//baVmppqhYeHW127drUWLFhgOhK+5XQ6rQkTJljJyclWRESE1b59e2vatGmWy+UyHc22Vq1addrfO7fddptlWZbl8XisGTNmWC1btrTCw8OtK6+80srOzjYb+nv4HMBz5HQ6FRsbe/JzAAEEhilZW/SvDQVq36KR3r3vioBe/AAAXgMIwPY+3X1U/9pQIEmam9GT8gcg4FEAAdhaZbVbU7OyJUk/65esvu348HAAgY8CCMDWnl+Zp91F5YqPDtfkYV1NxwGABkEBBGBbOwqdemn1LknSrFE9FBMR2HNvAPAdCiAAW3J7LD28MFs1HktDeiRoaGqrs18JAAIEBRCALf1t/V59VXBc0eEhmjXKdz6LEAAaAgUQgO3sP35C896vXb14eFhXJcT4/j4xAHgTBRCArViWpUcWb1VFlVuXpDTVz/omm44EAA2OAgjAVt7ZclArdxxWWHCQMjN6KsiLc2+DBg3SxIkTvXZ7AFBfKIAAbON4RZUeeztHknTPVR3VMb6x4UQAYAYFEIBtzF66XUVlVeqc0Fi/GdTBdBwAMIYCCMAWPskr0n82fSOHQ8rM6KmwkAv78VdeXq6f//znaty4sVq1aqWnn37aS0kBoP5RAAEEvMpqt6Ysqp17u/XSturTtukF3+aDDz6oVatWadGiRVq+fLk++ugjbdq06YJvFwAaQojpAABQ35794GvtO1qhljERenBIlwu+vbKyMr3yyiv629/+puuuu06S9Nprr6lNmzYXfNsA0BA4AgggoOUcKNGf1u6WJD0+OlXRXph727Vrl6qqqtS/f/+T5zVr1kxdulx4uQSAhkABBBCw3B5LU7Ky5fZYGp7WStd1T/DK7VqW5ZXbAQBTKIAAAtarH+/Rlm9KFBMRohk3dPfa7Xbs2FGhoaH69NNPT5537Ngx5ebmeu0+AKA+8RpAAAGpoLhCTy+vLWRTr++m+Gjvzb01btxYd9xxhx588EE1b95cCQkJmjZtmoKC+P/UAPwDBRBAwLEsS9MWb9WJarf6tWumn16S5PX7mDdvnsrKynTDDTcoOjpa999/v0pKSrx+PwBQHxwWL2Y5J06nU7GxsSopKVFMTIzpOABOY/GX+zXxzc0KCwnSsglXqH0LFj8A4Pt4vgJAQCkur9Ksd7ZJkiZc04nyBwCnQQEEEFCeeGebisur1LVltH51ZXvTcQDAJ1EAAQSMNblHlPXl/m/n3tIUGsyPOAA4HX46AggIFVU1mra4du7t9gEp6pV84XNvABCoKIAAAsLvV+SqoPiEWjeJ1AODWeQAgDOhAALwe9nflOiVdXskSU+MTlWjcD7hCgDOhAIIwK/VuD2anLVFHksaeVGiruoabzoSAPg8CiAAv/bKuj3KOeBUk6hQzRjpvbk3AAhkFEAAfmvf0XI9s6J27m3a9d0U1zjccCIA8A8UQAB+ybIsTV2ULVeNR5d1bK7/16eN6UgA4DcogAD80sIv9uvjvKMKDwnS7NFpcjgcpiMBgN+gAALwO0VlLj2xtHbu7XfXdVZKXCPDiQDAv1AAAfidWW9v0/GKanVvFaM7L29nOg4A+B0KIAC/smrnYb311QEFOaQnx/ZUCHNvAHDO+MkJwG+Uu2o0fdFWSdIvL2untDaxhhMBgH+iAALwG08vz9X+4yfUpmmkJg3ubDoOAPgtCiAAv7C54Lhe/aR27m3OmDRFhTH3BgDniwIIwOdVuz2avHCLLEsa06u1ruzcwnQkAPBrFEAAPm/Bmt3aUViqplGhmj68m+k4AOD3KIAAfNqeonL94cOvJUmPjuyu5sy9AcAFowAC8FmWZWlK1hZV1Xh0ZecWGn1xa9ORACAgUAAB+Kx/byzQp7uLFRkarNmjU5l7AwAvoQAC8EmHSys1e+l2SdKk6zorqVmU4UQAEDgogAB80mNvb5OzskZprWP1i8tSTMcBgIBCAQTgcz7YdkhLtxxUcJBDc8emMfcGAF7GT1UAPqW0slqPLKmde7vzinbqkcjcGwB4GwUQgE+Z//5OHSypVHKzKE28hrk3AKgPFEAAPmPTvmP626f7JNXOvUWGBRtOBACBiQIIwCdU1Xg0Jat27u3/9WmjyzvFmY4EAAGLAgjAJ7y0epdyD5WpeaMwTbueuTcAqE8UQADG5R0u0/Mr8yTVzr01bRRmOBEABDYKIACjPB5LU7OyVeX2aFCXFrrhokTTkQAg4FEAARj1xucF2rC3WFFhwXqCuTcAaBAUQADGHHJWKvO92rm3BwZ3UZumzL0BQEOgAAIwZsaSHJVW1uiiNrG6bUCK6TgAYBsUQABGvJ9TqGU5hQoJcmju2J4KDuKpXwBoKLYpgHv37tUdd9yhdu3aKTIyUh06dNCMGTNUVVVlOhpgO87Kaj367dzbr65sr26tYgwnAgB7CTEdoKHs2LFDHo9HL7/8sjp27KitW7dq/PjxKi8v1/z5803HA2zlqWU7dMjpUkrzKN13TSfTcQDAdhyWZVmmQ5gyb948vfjii9q9e3edr+N0OhUbG6uSkhLFxHDUAjhXn+8t1riX1kuSXh/fTwM6sPgBAA3NNkcAT6ekpETNmjU742VcLpdcLtfJr51OZ33HAgKWq8atyQu3SJJ+mp5E+QMAQ2zzGsD/tmvXLj333HO66667zni5zMxMxcbGnjwlJSU1UEIg8Lywapd2HSlXXONwTWXuDQCM8fsCOHPmTDkcjjOeNm7ceMp1Dhw4oKFDh2rcuHG68847z3j7U6ZMUUlJyclTQUFBff5xgICVe6hUL3xUO/c284buio0KNZwIAOzL718DWFRUpKKiojNeJiUlRREREZJqy99VV12lfv366a9//auCgs6tA/MaQODceTyWxr28Xpv2HdO13eL1p5+ns/gBAAb5/WsA4+LiFBdXt9cR7d+/X1dddZX69OmjV1999ZzLH4Dz88/P9mnTvmNqFBasWaOYewMA0/y+ANbVgQMHNGjQICUnJ2v+/Pk6cuTIye+1bNnSYDIgsB0sOaEnl+2UJD00tKsSm0QaTgQAsE0BXL58ufLy8pSXl6c2bdqc8j0/fxYc8FmWZemRxTkqc9WoV3IT3XJpW9ORAAAKgDeB1NXtt98uy7JOewJQP97bWqgPth9SaLBDczOYewMAX2GbAgigYZVUVGvGWzmSpN8M7KAuLaMNJwIAfIcCCKBeZL63XUdKXWrfopHuvqqj6TgAgO+hAALwuk93H9Ubn9d+ZubcjJ6KCA02nAgA8H0UQABeVVnt1tSsbEnSTX2T1bfdmecWAQANjwIIwKueX5mn3UXlio8O1+RhXU3HAQCcBgUQgNdsP+jUS6t3SZJmjeqh2Ejm3gDAF1EAAXiF22Npcla2ajyWBndP0NDUVqYjAQB+BAUQgFf8bf1efVVwXNHhIZo1KtV0HADAGVAAAVyw/cdPaN77tXNvDw/rqpaxEYYTAQDOhAII4IJYlqXpi7JVUeXWJSlN9bO+yaYjAQDOggII4IK8veWgVu08orDgIGVmpCmIuTcA8HkUQADn7XhFlWa9XTv3ds9VHdUxnrk3APAHFEAA52320u0qKqtSp/jG+s2gDqbjAADqiAII4Lx8nFek/2z6Rg6HNHdsmsJC+HECAP6Cn9gAzllltVtTF9XOvd16aVv1acvcGwD4EwoggHP27Adfa9/RCrWMidCDQ7qYjgMAOEcUQADnJOdAif60drck6fHRqYqOYO4NAPwNBRBAnbk9lqZkZcvtsXR9Wktd1z3BdCQAwHmgAAKos1c/3qMt35QoJiJEM0f2MB0HAHCeKIAA6qSguEJPL8+VJE29vpviY5h7AwB/RQEEcFaWZWna4q06Ue1Wv3bN9NNLkkxHAgBcAAoggLNasvmA1uQeUVhI7dybw8HcGwD4MwoggDMqLq/SrHe2SZImXNNJ7Vs0NpwIAHChKIAAzuiJd7apuLxKXVtG61dXtjcdBwDgBRRAAD9qTe4RZX25Xw6HlJmRptBgfmQAQCDgpzmA06qoqjk593Zb/xT1Sm5qOBEAwFsogABO6/crcvXNsRNKjI3QA8y9AUBAoQAC+IHsb0r0yro9kqQnxqSqcXiI4UQAAG+iAAI4RbXbo4cXbpHHkkZelKiruzL3BgCBhgII4BSvrNujbQedio0M1aMjupuOAwCoBxRAACftO1qu36+onXubNrybWkSHG04EAKgPFEAAkmrn3qYuyparxqMBHZprXJ82piMBAOoJBRCAJOl/N32jj/OOKjwkSHPGMPcGAIGMAghARWUuzX53uyRp4rWdlRLXyHAiAEB9ogAC0Ky3t+l4RbW6tYrRnVe0Mx0HAFDPKICAza3aeVhvfXVAQQ7pybHMvQGAHfCTHrCxcleNpi/aKkn65WXt1LNNE7OBAAANggII2Nj85Tu1//gJtWkaqUmDO5uOAwBoIBRAwKY2FxzXXz/ZK0maPSZNUWHMvQGAXVAAARuqdns0eeEWWZY0+uJEDezcwnQkAEADogACNrRgzW7tKCxV06hQPcLcGwDYDgUQsJk9ReX6w4dfS5IeGdFdzRsz9wYAdkMBBGzEsixNydqiqhqPrugUpzG9WpuOBAAwgAII2Mi/Nxbo093FiggN0uzRzL0BgF1RAAGbOFxaqdlLa+feJl3XWcnNowwnAgCYQgEEbOKxt7fJWVmj1NYx+uVlzL0BgJ1RAAEb+GDbIS3dclDBQQ7NzeipEObeAMDW+C0ABLjSymo9sqR27u3Oy9sptXWs4UQAANMogECAm//+Th0sqVRysyhNvJa5NwAABRAIaJv2HdPfPt0nSZozJk2RYcGGEwEAfAEFEAhQVTUeTcmqnXsb27uNLu8UZzoSAMBHUACBAPXS6l3KPVSm5o3CNH14N9NxAAA+hAIIBKC8w2V6fmWeJOnRkd3VtFGY4UQAAF9CAQQCjMdjaWpWtqrcHg3q0kI3XJRoOhIAwMdQAIEA86/P87Vhb7GiwoL1xOhU5t4AAD9AAQQCyCFnpea+u0OSdP/gLmrTlLk3AMAPUQCBADJjSY5KXTW6qE2sbh+QYjoOAMBHUQCBALFsa6GW5RQqJMihzIyeCg7iqV8AwOlRAIEA4Kys1qPfzr396sr26p4YYzgRAMCXUQCBAPDkezt0uNSllOZRuu+aTqbjAAB8HAUQ8HOf7y3WPz/LlyTNyUhTRChzbwCAM6MAAn7MVePW5IVbJEk/SW+jAR2YewMAnB0FEPBj/7Nql3YdKVdc43BNu7676TgAAD9BAQT8VO6hUr34Ue3c28wbuis2KtRwIgCAv6AAAn7I47E0JStb1W5L13SN1/C0VqYjAQD8CAUQ8EP//GyfNu07pkZhwXqcuTcAwDmiAAJ+5mDJCT25bKck6aGhXZXYJNJwIgCAv6EAAn7Esiw9sjhHZa4a9UpuolsubWs6EgDAD1EAAT/y3tZCfbD9kEKDHZrL3BsA4DxRAAE/UVJRrRlv5UiSfjOwg7q0jDacCADgryiAgJ+Yu2y7jpS61L5FI919VUfTcQAAfsyWBdDlcuniiy+Ww+HQ5s2bTccBzurT3Uf1rw0FkqS5GT2ZewMAXBBbFsCHHnpIiYmJpmMAdVJZ7dbUrGxJ0k19k9W3XTPDiQAA/s52BfC9997T8uXLNX/+fNNRgDr5n1V52l1UrvjocE0e1tV0HABAAAgxHaAhHTp0SOPHj9fixYsVFRVVp+u4XC65XK6TXzudzvqKB/zAjkKnXvxolyRp1qgeio1k7g0AcOFscwTQsizdfvvtuuuuu5Senl7n62VmZio2NvbkKSkpqR5TAv/H7bE0eWG2ajyWBndP0NBU5t4AAN7h9wVw5syZcjgcZzxt3LhRzz33nJxOp6ZMmXJOtz9lyhSVlJScPBUUFNTTnwQ41d/X79XmguOKDg/RrFGppuMAAAKIw7Isy3SIC1FUVKSioqIzXiYlJUU33nij3n777VM2U91ut4KDg3XzzTfrtddeq9P9OZ1OxcbGqqSkRDExMReUHfgx+4+f0HXPrFZFlVuPj07VrSx+AAC8yO8LYF3l5+ef8vq9AwcOaMiQIfrf//1f9evXT23atKnT7VAAUd8sy9Idr23Uyh2Hld62qf796/4KYvEDAOBFtnkTSHJy8ilfN27cWJLUoUOHOpc/oCG8s+WgVu44rLDgIM0dm0b5AwB4nd+/BhAIJMcrqvTY27Vzb3df1UEd45l7AwB4n22OAP63lJQU2eTZb/iR2Uu3q6isSh3jG+s3gzqYjgMACFAcAQR8xCd5RfrPpm8kSXMz0hQewtwbAKB+UAABH1BZ7daURbVzb7dcmqz0FObeAAD1hwII+IA/fPi19h2tUMuYCD00lLk3AED9ogAChuUcKNGCNbsl1c69xUQw9wYAqF8UQMAgt8fSlKxsuT2WhqW21OAeLU1HAgDYAAUQMOjVj/doyzclio4I0WM39DAdBwBgExRAwJCC4go9vTxXkjT1+m6Kj4kwnAgAYBcUQMAAy7I0bfFWnah2q2+7ZvppepLpSAAAG6EAAgYs2XxAa3KPKCwkSJkZzL0BABoWBRBoYMXlVZr1zjZJ0m+v6qgOLRobTgQAsBsKINDAnli6TcXlVeqSEK1fD2TuDQDQ8CiAQANa+/URZX2xXw6HNHdsmsJC+E8QANDw+O0DNJCKqhpN/Xbu7bb+KeqV3NRwIgCAXVEAgQby7Adfq6D4hBJjI/TAkC6m4wAAbIwCCDSArftL9Oe1tXNvT4xJVePwEMOJAAB2RgEE6lmN26OHF26Rx5JG9Gylq7smmI4EALA5CiBQz15Zt0c5B5yKjQzVjJHMvQEAzKMAAvUo/2iFfv9B7dzbtOHd1CI63HAiAAAogEC9sSxLUxdlq7Lao/7tm2tcnzamIwEAIIkCCNSbrC/2a11ekcK/nXtzOJh7AwD4BgogUA+Kylx6fGnt3NuEazspJa6R4UQAAPwfCiBQDx5/Z5uOV1SrW6sYjb+ivek4AACcggIIeNmqnYe1ZPMBBTmkJ8emKTSY/8wAAL6F30yAF5W7ajR90VZJ0i8ua6eebZqYDQQAwGnUyxzB3r17tXbtWu3du1cVFRVq0aKFevXqpf79+ysiIqI+7hLwCU8vz9X+4yfUpmmk7h/c2XQcAABOy6sF8PXXX9cf//hHbdiwQfHx8WrdurUiIyNVXFysXbt2KSIiQjfffLMefvhhtW3b1pt3DRj3VcFx/fWTPZKk2WPSFBXG3BsAwDd57TdU7969FRQUpNtvv13//ve/lZycfMr3XS6X1q9frzfeeEPp6el64YUXNG7cOG/dPWBU9ffm3kZfnKiBnVuYjgQAwI9yWJZleeOGli5dquHDh9fpskVFRdqzZ48uueQSb9x1g3I6nYqNjVVJSYliYmJMx4GPeOGjPD21bKeaRoXqg0kD1bwxix8AAN/ltQJoFxRA/Lc9ReUa8uwaVdV49MxPLlJGbxY/AAC+zWtPATudzjpfluKEQGFZlqZmZauqxqMrOsVpTK/WpiMBAHBWXiuATZo0qfPUldvt9tbdAkb9Z+M3Wr/7qCJCgzR7NHNvAAD/4LUCuGrVqpP/vHfvXk2ePFm33367+vfvL0lav369XnvtNWVmZnrrLgGjDpdWava72yVJk67rrOTmUYYTAQBQN/XyGsBrrrlGd955p2666aZTzn/99de1YMECffTRR96+ywbDawDxnXte/0JLtxxUausYLb77MoWw+AEA8BP18htr/fr1Sk9P/8H56enp2rBhQ33cJdCgPtx+SEu3HFRwkENzM3pS/gAAfqVefmslJSXppZde+sH5L7/8spKSkurjLoEGU+aq0fTFtXNvd17eTqmtYw0nAgDg3NTLVMHvf/97jR07Vu+//74uvfRSSdKnn36qXbt2aeHChfVxl0CDmf/+Th0sqVRysyhNvJa5NwCA/6mXI4DXX3+9vv76a40aNUrFxcU6evSoRo0apdzcXF1//fX1cZdAg9i075heW79XkjR7TKoiw4LNBgIA4DzwQdDniDeB2FdVjUcjnlur3ENlyujdWs/85GLTkQAAOC9eOwKYn59/Tpffv3+/t+4aaBAvr96l3ENlat4oTI8M7246DgAA581rBfCSSy7R+PHjz/gu35KSEv3pT39SamqqsrKyvHXXQL3bdaRMz63MkyQ9OrK7mjYKM5wIAIDz57U3gWzfvl1z5szR0KFDFRoaqvT0dCUmJioiIkLHjh3Ttm3blJOTo/T0dM2bN0/Dhg3z1l0D9crjsTRlYbaq3B4N7NxCN1yUaDoSAAAXxGuvAdyyZYt69Oih6upqvffee1qzZo327t2rEydOKC4uTr169dKQIUOUmprqjbszhtcA2s/rn+Vr6qJsRYYGa/nvrlRSMxY/AAD+zWsFMDg4WIWFhWrRooXat2+vzz//XM2bN/fGTfsUCqC9HHZW6ppnVqu0skbTh3fTnVe0Nx0JAIAL5rXXADZp0kS7d++WVLsF7PF4vHXTgDEz3spRaWWNLmoTq19c1s50HAAAvMJrrwEcO3asBg4cqFatWsnhcCg9PV3Bwaf/jLTviiLgy97PKdR7WwsVHORQZkZPBQc5TEcCAMArvFYAFyxYoIyMDOXl5em+++7T+PHjFR0d7a2bBxqUs7Jajy6pnXv71ZXt1T2Rp/sBAIHDq1NwQ4cOlSRt2rRJEyZMoADCbz21bIcOOV1KaR6lCdd0Mh0HAACvqpct4FdffbU+bhZoEBv3Fusfn9Z+sPmcjDRFhDL3BgAILPWyBQz4K1eNWw8v3CJJ+kl6Gw3oEGc4EQAA3kcBBL7nhVW7tOtIueIah2nq9d1MxwEAoF5QAIFvfX2oVC98VDv3NmNkDzWJYu4NABCYKICAaufeJmdlq9pt6Zqu8RrRs5XpSAAA1BsKICDpn5/t06Z9x9QoLFizRqfK4eAz/wAAgYsCCNs7WHJCTy7bKUl6cEgXtW4SaTgRAAD1iwIIW7MsS48uyVGZq0a9kpvo1v4ppiMBAFDvKICwtWVbC7Vi2yGFBjs0l7k3AIBNUABhWyUV1Xr0rRxJ0l0DO6hLS5ZrAAD2QAGEbc1dtl1HSl1q36KR7rmqo+k4AAA0GAogbOnT3Uf1rw0FkqTMMcy9AQDshQII26msdmtqVrYk6aa+yerXvrnhRAAANCwKIGzn+ZV52l1UrvjocE0e1tV0HAAAGhwFELayo9Cpl1bvkiTNGtVDsZGhhhMBANDwKICwDbfH0uSF2arxWBrcPUFDU5l7AwDYEwUQtvH39Xu1ueC4osNDNGtUquk4AAAYQwGELew/fkJPvV879/bQsK5qGRthOBEAAOZQABHwLMvSI4u3qqLKrfS2TXVz32TTkQAAMIoCiID3zpaDWrnjsMKCgzR3bJqCmHsDANgcBRAB7XhFlR57u3bu7e6rOqhjPHNvAABQABHQZi/drqKyKnWMb6zfDOpgOg4AAD6BAoiA9Ulekf6z6RtJ0tyMNIWHMPcGAIBkwwK4dOlS9evXT5GRkYqLi1NGRobpSKgHldVuTVlUO/d266VtlZ7SzHAiAAB8R4jpAA1p4cKFGj9+vObMmaOrr75almUpOzvbdCzUg2c/+Fr7jlaoZUyEHhraxXQcAAB8im0KYE1NjSZMmKB58+bpjjvuOHl+ly6Ug0Cz7YBTf1q7W1Lt3Ft0BHNvAAB8n22eAv7iiy+0f/9+BQUFqVevXmrVqpWGDRumnJwc09HgRW6PpclZW+T2WBqW2lKDe7Q0HQkAAJ9jmwK4e3ftEaGZM2dq+vTpeuedd9S0aVMNHDhQxcXFP3o9l8slp9N5ygm+69WP92jLNyWKjgjRYzf0MB0HAACf5PcFcObMmXI4HGc8bdy4UR6PR5I0bdo0jR07Vn369NGrr74qh8Oh//znPz96+5mZmYqNjT15SkpKaqg/Gs5RQXGFnl6eK0maen03xccw9wYAwOn4/WsA7733Xt14441nvExKSopKS0slSd27dz95fnh4uNq3b6/8/Pwfve6UKVM0adKkk187nU5KoA+yLEvTFm/ViWq3+rZrpp+m8xgBAPBj/L4AxsXFKS4u7qyX69Onj8LDw7Vz505dfvnlkqTq6mrt3btXbdu2/dHrhYeHKzw83Gt5UT+WbD6gNblHFBYSpMwM5t4AADgTvy+AdRUTE6O77rpLM2bMUFJSktq2bat58+ZJksaNG2c4HS5EcXmVZr2zTZJ039Ud1aFFY8OJAADwbbYpgJI0b948hYSE6NZbb9WJEyfUr18/rVy5Uk2bNjUdDRfgiaXbVFxepS4J0frVlcy9AQBwNg7LsizTIfyJ0+lUbGysSkpKFBMTYzqO7a3JPaKf/2WDHA4p6zcD1CuZMg8AwNn4/buAYV8VVTWatrh2yeW2/imUPwAA6ogCCL/17Adfq6D4hBJjI/TAEBZdAACoKwog/NLW/SX687dzb0+MSVXjcFu9nBUAgAtCAYTfqXF79PDCLfJY0oierXR11wTTkQAA8CsUQPidV9btUc4Bp2IjQzVjJHNvAACcKwog/Er+0Qr9/oPaubdpw7upRTQf0g0AwLmiAMJvWJalqYuyVVnt0YAOzTWuTxvTkQAA8EsUQPiNrC/2a11ekcJDgjRnTJocDubeAAA4HxRA+IWiMpceX1o79zbh2k5KiWtkOBEAAP6LAgi/8Pg723S8olrdWsVo/BXtTccBAMCvUQDh81btPKwlmw8oyCHNzUhTaDD/2gIAcCH4TQqfVu6q0fRFWyVJv7isnS5KamI2EAAAAYACCJ/29PJc7T9+Qq2bRGrSdZ1NxwEAICBQAOGzvio4rr9+skeSNHtMqhox9wYAgFdQAOGTqr839zb64kQN6hJvOhIAAAGDAgiftGDNbu0oLFXTqFA9MqK76TgAAAQUCiB8zp6icv3hw68lSdOHd1fzxsy9AQDgTRRA+BTLsjQ1K1tVNR5d0SlOGb1bm44EAEDAoQDCp/xn4zdav/uoIkKDNHs0c28AANQHCiB8xpFSl2a/u12SNOm6zkpuHmU4EQAAgYkCCJ/x2Ns5KjlRrdTWMfrlZe1MxwEAIGBRAOETPtx+SO9sOajgIIfmZvRUCHNvAADUG37LwrgyV42mL66de7vz8nZKbR1rOBEAAIGNAgjj5r+/UwdLKpXcLEoTr2XuDQCA+kYBhFFf5B/Ta+v3Sqqde4sMCzYbCAAAG6AAwpiqGo+mLMyWZUkZvVvrik4tTEcCAMAWKIAwZsGaXdp5qFTNGoVp+nDm3gAAaCgUQBix60iZ/vhhniRpxsjuatYozHAiAADsgwKIBufxWJqSla0qt0cDO7fQDRclmo4EAICtUADR4N7cWKANe4oVGRqsJ0anMvcGAEADowCiQR12VmrOt3Nv9w/urKRmzL0BANDQKIBoUDPfzlFpZY0uahOrXzD3BgCAERRANJjlOYV6N7tQwUEOZWb0VHAQT/0CAGACBRANorSyWo8uyZEk/erK9uqeGGM4EQAA9kUBRIN4atlOFTorldI8ShOu6WQ6DgAAtkYBRL3buLdY//hsnyRpzpg0RYQy9wYAgEkUQNQrV41bk7Nq595+kt5GAzrGmY4EAIDtUQBRr178aJfyDpcprnGYpl7fzXQcAAAgCiDqUd7hUr2wapckaeYNPdQkirk3AAB8AQUQ9cLjsTR5Ye3c2zVd4zU8rZXpSAAA4FsUQNSLf27I18Z9x9QoLFiPM/cGAIBPoQDC6wpLKvXkezskSQ8O6aLEJpGGEwEAgO+jAMLrHl2yVWWuGvVKbqJb+6eYjgMAAP4LBRBetWzrQS3fdkihwQ7NZe4NAACfRAGE15Sc+L+5t7sGdlCXltGGEwEAgNOhAMJr5r63Q4dLXWrfopHuuaqj6TgAAOBHUADhFZ/tPqp/bciXJM3N6MncGwAAPowCiAtWWe3WlEXZkqSb+iarb7tmhhMBAIAzoQDigv3PqjztPlKu+OhwTR7W1XQcAABwFhRAXJCdhaV68aPaubfHbuih2MhQw4kAAMDZUABx3tweSw8v3KIaj6XruidoaGpL05EAAEAdUABx3v6+fq82FxxX4/AQPT6KuTcAAPwFBRDn5cDxE5r3/k5J0sPDuqplbIThRAAAoK4ogDhnlmXpkcVbVV7lVnrbprq5b7LpSAAA4BxQAHHO3tlyUB/uOKzQYIcyM9IUxNwbAAB+hQKIc3K8okqPvV0793b3oI7qlMDcGwAA/oYCiHMy593tKiqrUsf4xrr7qg6m4wAAgPNAAUSdfZJXpH9v/EaSNDcjTeEhzL0BAOCPKICok+/Pvd1yabLSU5h7AwDAX1EAUSd/+PBr7TtaoYSYcD00lLk3AAD8GQUQZ7XtgFML1uyWJM0alaqYCObeAADwZxRAnJHbY2ly1ha5PZaGpbbUkB7MvQEA4O8ogDijVz/eoy3flCg6IkSP3dDDdBwAAOAFFED8qILiCj29PFeSNGVYN8XHMPcGAEAgoADitCzL0vTFW3Wi2q2+Kc104yVJpiMBAAAvoQDitN766oBW5x5RWHCQMscy9wYAQCChAOIHisur9Njb2yRJv726ozq0aGw4EQAA8CYKIH7giaXbVFxepS4J0fr1QObeAAAINBRAnGLt10eU9cV+ORxS5tg0hYXwrwgAAIGG3+446USVW1O/nXu7rX+Keic3NZwIAADUBwogTvr9B7kqKD6hxNgIPTCki+k4AACgntiqAObm5mrUqFGKi4tTTEyMLrvsMq1atcp0LJ+wdX+J/ry2du7t8dGpahweYjgRAACoL7YqgMOHD1dNTY1WrlypTZs26eKLL9aIESNUWFhoOppRNW6PHl64RR5LGt6zla7plmA6EgAAqEe2KYBFRUXKy8vT5MmT1bNnT3Xq1Elz585VRUWFcnJyTMcz6i8f71HOAadiI0M1cyRzbwAABDrbFMDmzZurW7du+tvf/qby8nLV1NTo5ZdfVkJCgvr06WM6njH5Ryv0zIraubdp13dTi+hww4kAAEB9s80LvRwOh1asWKFRo0YpOjpaQUFBSkhI0LJly9SkSZMfvZ7L5ZLL5Tr5tdPpbIC0DcOyLE1dlK3Kao/6t2+uceltTEcCAAANwO+PAM6cOVMOh+OMp40bN8qyLN19992Kj4/X2rVrtWHDBo0aNUojRozQwYMHf/T2MzMzFRsbe/KUlBQ4m7hZX+zXurwihYUEaU5GmhwO5t4AALADh2VZlukQF6KoqEhFRUVnvExKSoo+/vhjDR48WMeOHVNMTMzJ73Xq1El33HGHJk+efNrrnu4IYFJSkkpKSk65HX9ztMyla59ZrWMV1XpoaBfdPaij6UgAAKCB+P1TwHFxcYqLizvr5SoqKiRJQUGnHvQMCgqSx+P50euFh4crPDzwXhf3+DvbdKyiWt1axWj8Fe1NxwEAAA3I758Crqv+/furadOmuu222/TVV18pNzdXDz74oPbs2aPhw4ebjtegPtp5WIs3H1CQQ5qbkabQYNv8awAAAGSjAhgXF6dly5aprKxMV199tdLT07Vu3TotWbJEF110kel4DabcVaNpi7ZKkm4f0E4XJTUxGwgAADQ4v38K+Fykp6fr/fffNx3DqGdW5Gr/8RNq3SRS9w/ubDoOAAAwwDZHACF9VXBcr368R5I0e0yqGjH3BgCALVEAbaLa7dHkrGx5LGnUxYka1CXedCQAAGAIBdAm/rx2j7YfdKpJVKgeGdHddBwAAGAQBdAG9haV69kPaufeHhneXXGNA+9jbQAAQN1RAAPcd3NvrhqPrugUp4zerU1HAgAAhlEAA9x/Nn2jT3YdVURokGaPZu4NAABQAAPakVKXZi/dLkmadF1nJTePMpwIAAD4AgpgAHvs7RyVnKhWausY/fKydqbjAAAAH0EBDFArdxzSO1sOKjjIobkZPRXC3BsAAPgWrSAAlblqNP3bubc7Lm+n1NaxhhMBAABfQgEMQPPf36kDJZVKahap313L3BsAADgVBTDAfJF/TK+t3ytJmjMmTZFhwWYDAQAAn0MBDCBVNR5NWZgty5IyerfWFZ1amI4EAAB8EAUwgCxYs0s7D5WqWaMwTR/O3BsAADg9CmCA2HWkTH9cmSdJenREdzVrFGY4EQAA8FUUwADg8ViakpWtqhqPruzcQqMuTjQdCQAA+DAKYAB4c2OBNuwpVmRosGaPTmXuDQAAnBEF0M8ddlZqzru1c2/3D+6spGbMvQEAgDOjAPq5mW/nqLSyRj3bxOoXzL0BAIA6oAD6seU5hXo3u/Dk3FtwEE/9AgCAs6MA+qnSymo9uiRHkjT+ivbqnhhjOBEAAPAXFEA/9dSynSp0Vqpt8yhNvLaT6TgAAMCPUAD90Ma9xfrHZ/skSZlj0hQRytwbAACoOwqgn3HVuDU5q3bubVyfNhrQMc50JAAA4GcogH7mxY92Ke9wmeIah2na8G6m4wAAAD9EAfQjeYdL9cKqXZKkGSN7qEkUc28AAODcUQD9hMdjafLCbFW5Pbq6a7xG9GxlOhIAAPBTFEA/8c8N+dq475gahQXrcebeAADABaAA+oHCkko9+d4OSdIDQ7qodZNIw4kAAIA/owD6gUeXbFWZq0YXJzXRz/unmI4DAAD8HAXQxy3belDLtx1SSJBDc8emMfcGAAAuGAXQh5Wc+L+5t7sGdlDXlsy9AQCAC0cB9GFz39uhw6UutY9rpHuv7mg6DgAACBAUQB/12e6j+teGfEnSnAzm3gAAgPdQAH1QZbVbUxZlS5Ju6pukS9s3N5wIAAAEEgqgD3phVZ52HylXi+hwTR7G3BsAAPAuCqCP2VlYqhdX1869PXZDD8VGhhpOBAAAAg0F0Ie4PZYmZ21RtdvSdd0TNCy1pelIAAAgAFEAfcg/Pt2nL/OPq3F4iB4fxdwbAACoHxRAH3Hg+Ak9tax27u3hoV3UMjbCcCIAABCoKIA+wLIsPbJ4q8qr3OrTtqlu7tfWdCQAABDAKIA+YGn2QX2447BCgx2am5GmIObeAABAPaIAGlZSUa2Zb22TJN09qKM6JUQbTgQAAAIdBdCwOe9uV1GZSx3jG+vuqzqYjgMAAGyAAmjQJ7uK9ObGAklSZkaawkOYewMAAPWPAmhIZbVbU7Nq595uuTRZl6Q0M5wIAADYBQXQkD9++LX2Hq1QQky4Hhra1XQcAABgIxRAA7YdcGrBmt2SpFmjUhUTwdwbAABoOBTABub2WJqStUU1HkvDUltqSA/m3gAAQMOiADawv36yV199U6LoiBA9dkMP03EAAIANUQAb0DfHKvT08p2SpCnDuik+hrk3AADQ8CiADcSyLE1fvFUVVW71TWmmGy9JMh0JAADYFAWwgbz11QF9tPOIwoKDlDmWuTcAAGAOBbABHCuv0qy3a+fefnt1R3Vo0dhwIgAAYGcUwAbwxNLtOlpepS4J0fr1QObeAACAWRTAerbu6yIt/OIbORxS5tg0hYXwVw4AAMyijdSjE1VuTV1UO/d2W/8U9U5uajgRAAAABbBePfthrvKLK5QYG6EHhnQxHQcAAEASBbDebN1foj+v3SNJenx0qhqHhxhOBAAAUIsCWA9q3B5Nztoit8fSiJ6tdE23BNORAAAATqIA1oNXP96rrfudio0M1YyRzL0BAADfQgH0soLiCj2zIleSNO36bmoRHW44EQAAwKkogF5kWZamLsrWiWq3+rdvrnHpbUxHAgAA+AEKoBct+nK/1n5dpPCQIM3JSJPDwdwbAADwPRRALzla5tLj79TOvU24tpPaxTUynAgAAOD0KIBe8sTS7TpWUa1urWI0/or2puMAAAD8KAqgF6zOPaJFX+5XkEOam5Gm0GD+WgEAgO+iqVygiqoaTft27u32Ae10UVITs4EAAADOggJ4gZ5Znqtvjp1Q6yaRun9wZ9NxAAAAzooCeAG+Kjiuv3xcO/c2e0yqGjH3BgAA/AAF8DxVuz2anJUtjyWNujhRg7rEm44EAABQJwFVAGfPnq0BAwYoKipKTZo0Oe1l8vPzNXLkSDVq1EhxcXG67777VFVVdc739done7X9oFNNokL1yIjuF5gcAACg4QRUAayqqtK4ceP0m9/85rTfd7vdGj58uMrLy7Vu3Tq98cYbWrhwoe6///5zvq8XPtolSZo+vLviGjP3BgAA/EdAvWjtsccekyT99a9/Pe33ly9frm3btqmgoECJiYmSpKefflq33367Zs+erZiYmLPeh2VZkqSqGo+u7BKnsb1beyc8AABAAwmoI4Bns379eqWmpp4sf5I0ZMgQuVwubdq0qU63sejL/ZKk8NAgzR6TytwbAADwOwF1BPBsCgsLlZCQcMp5TZs2VVhYmAoLC097HZfLJZfLJUkqOVGtee/vkCTdM6iD2jZn7g0AAPgfnz8COHPmTDkcjjOeNm7cWOfbO90RO8uyfvRIXmZmpmJjYxUbG6vklnHas3C+JOnn/VPO688DAABgms8fAbz33nt14403nvEyKSkpdbqtli1b6rPPPjvlvGPHjqm6uvoHRwa/M2XKFE2aNOnk106nU0lJSQph7g0AAPgpny+AcXFxiouL88pt9e/fX7Nnz9bBgwfVqlUrSbVvDAkPD1efPn1Oe53w8HCFh/MuXwAAEDh8vgCei/z8fBUXFys/P19ut1ubN2+WJHXs2FGNGzfW4MGD1b17d916662aN2+eiouL9cADD2j8+PF1egcwAABAIHBY332uSQC4/fbb9dprr/3g/FWrVmnQoEGSakvi3XffrZUrVyoyMlI/+9nPNH/+/Dof5XM6nYqNjVVJSQmlEQAA+KWAKoANgQIIAAD8He9kAAAAsBkKIAAAgM1QAAEAAGyGAggAAGAzFEAAAACboQACAADYDAUQAADAZiiAAAAANkMBBAAAsBkKIAAAgM1QAAEAAGyGAggAAGAzFEAAAACboQACAADYDAUQAADAZhyWZVmmQ/gTy7JUWlqq6OhoORwO03EAAADOGQUQAADAZngKGAAAwGYogAAAADZDAQQAALAZCiAAAIDNUAABAABshgIIAABgMxRAAAAAm6EAAgAA2AwFEAAAwGYogAAAADZDAQQAALAZCiAAAIDN/H9fYc6hzFS80gAAAABJRU5ErkJggg==' width=640.0/>\n",
                            "            </div>\n",
                            "        "
                        ],
                        "text/plain": [
                            "Canvas(toolbar=Toolbar(toolitems=[('Home', 'Reset original view', 'home', 'home'), ('Back', 'Back to previous …"
                        ]
                    },
                    "metadata": {},
                    "output_type": "display_data"
                },
                {
                    "data": {
                        "text/plain": [
                            "Text(0.5, 1.0, 'Lx')"
                        ]
                    },
                    "execution_count": 34,
                    "metadata": {},
                    "output_type": "execute_result"
                }
            ],
            "source": [
                "d_max, d = sym.symbols('d_{max} d', positive=True)\n",
                "L = Piecewise((0, d > d_max), ((d - d_max)**2, d <= d_max))\n",
                "\n",
                "sym.plot(L.subs(d_max, 5), (d, 0, 10))\n",
                "plt.title('L')\n",
                "sym.plot(L.subs(d_max, 5).diff(d), (d, 0, 10))\n",
                "plt.title('Lx')"
            ]
        },
        {
            "cell_type": "code",
            "execution_count": 38,
            "id": "40aaa3f7-d25a-4c6e-bc3b-1f78768aa056",
            "metadata": {},
            "outputs": [
                {
                    "data": {
                        "text/latex": [
                            "$\\displaystyle \\left[\\begin{matrix}\\left(- d_{max} + \\sqrt{\\left(a_{x} - b_{x}\\right)^{2} + \\left(a_{y} - b_{y}\\right)^{2}}\\right)^{2}\\end{matrix}\\right]$"
                        ],
                        "text/plain": [
                            "Matrix([[(-d_{max} + sqrt((a_x - b_x)**2 + (a_y - b_y)**2))**2]])"
                        ]
                    },
                    "execution_count": 38,
                    "metadata": {},
                    "output_type": "execute_result"
                }
            ],
            "source": [
                "a_x, a_y, b_x, b_y = sym.symbols('a_x a_y b_x b_y')\n",
                "x = sym.Matrix([a_x, a_y, v, theta, b_x, b_y, v, theta])\n",
                "u = sym.Matrix([a, omega])\n",
                "d = sym.sqrt((a_x - b_x)**2 + (a_y - b_y)**2)\n",
                "L = sym.Matrix([(d - d_max)**2])\n",
                "L"
            ]
        },
        {
            "cell_type": "code",
            "execution_count": 39,
            "id": "e7a32576-81db-428c-89c8-b844c40e5538",
            "metadata": {},
            "outputs": [
                {
                    "data": {
                        "text/latex": [
                            "$\\displaystyle \\left[\\begin{matrix}\\frac{2 \\left(a_{x} - b_{x}\\right) \\left(- d_{max} + \\sqrt{\\left(a_{x} - b_{x}\\right)^{2} + \\left(a_{y} - b_{y}\\right)^{2}}\\right)}{\\sqrt{\\left(a_{x} - b_{x}\\right)^{2} + \\left(a_{y} - b_{y}\\right)^{2}}} & \\frac{2 \\left(a_{y} - b_{y}\\right) \\left(- d_{max} + \\sqrt{\\left(a_{x} - b_{x}\\right)^{2} + \\left(a_{y} - b_{y}\\right)^{2}}\\right)}{\\sqrt{\\left(a_{x} - b_{x}\\right)^{2} + \\left(a_{y} - b_{y}\\right)^{2}}} & 0 & 0 & \\frac{2 \\left(- a_{x} + b_{x}\\right) \\left(- d_{max} + \\sqrt{\\left(a_{x} - b_{x}\\right)^{2} + \\left(a_{y} - b_{y}\\right)^{2}}\\right)}{\\sqrt{\\left(a_{x} - b_{x}\\right)^{2} + \\left(a_{y} - b_{y}\\right)^{2}}} & \\frac{2 \\left(- a_{y} + b_{y}\\right) \\left(- d_{max} + \\sqrt{\\left(a_{x} - b_{x}\\right)^{2} + \\left(a_{y} - b_{y}\\right)^{2}}\\right)}{\\sqrt{\\left(a_{x} - b_{x}\\right)^{2} + \\left(a_{y} - b_{y}\\right)^{2}}} & 0 & 0\\end{matrix}\\right]$"
                        ],
                        "text/plain": [
                            "Matrix([[2*(a_x - b_x)*(-d_{max} + sqrt((a_x - b_x)**2 + (a_y - b_y)**2))/sqrt((a_x - b_x)**2 + (a_y - b_y)**2), 2*(a_y - b_y)*(-d_{max} + sqrt((a_x - b_x)**2 + (a_y - b_y)**2))/sqrt((a_x - b_x)**2 + (a_y - b_y)**2), 0, 0, 2*(-a_x + b_x)*(-d_{max} + sqrt((a_x - b_x)**2 + (a_y - b_y)**2))/sqrt((a_x - b_x)**2 + (a_y - b_y)**2), 2*(-a_y + b_y)*(-d_{max} + sqrt((a_x - b_x)**2 + (a_y - b_y)**2))/sqrt((a_x - b_x)**2 + (a_y - b_y)**2), 0, 0]])"
                        ]
                    },
                    "execution_count": 39,
                    "metadata": {},
                    "output_type": "execute_result"
                }
            ],
            "source": [
                "L_x, L_u, L_xx, L_uu, L_xu, L_ux = quadraticize(L, x, u)\n",
                "L_x"
            ]
        },
        {
            "cell_type": "code",
            "execution_count": 44,
            "id": "4c738895-4e07-453b-b741-6ad1d6cfcb53",
            "metadata": {},
            "outputs": [
                {
                    "data": {
                        "text/latex": [
                            "$\\displaystyle \\left[\\begin{matrix}\\frac{2 d_{max} \\left(a_{x} - b_{x}\\right)^{2}}{\\left(\\left(a_{x} - b_{x}\\right)^{2} + \\left(a_{y} - b_{y}\\right)^{2}\\right)^{\\frac{3}{2}}} - \\frac{2 d_{max}}{\\sqrt{\\left(a_{x} - b_{x}\\right)^{2} + \\left(a_{y} - b_{y}\\right)^{2}}} + 2 & \\frac{2 d_{max} \\left(a_{x} a_{y} - a_{x} b_{y} - a_{y} b_{x} + b_{x} b_{y}\\right)}{\\left(a_{x}^{2} - 2 a_{x} b_{x} + a_{y}^{2} - 2 a_{y} b_{y} + b_{x}^{2} + b_{y}^{2}\\right)^{\\frac{3}{2}}} & 0 & 0 & - \\frac{2 d_{max} \\left(a_{x} - b_{x}\\right)^{2}}{\\left(\\left(a_{x} - b_{x}\\right)^{2} + \\left(a_{y} - b_{y}\\right)^{2}\\right)^{\\frac{3}{2}}} + \\frac{2 d_{max}}{\\sqrt{\\left(a_{x} - b_{x}\\right)^{2} + \\left(a_{y} - b_{y}\\right)^{2}}} - 2 & \\frac{2 d_{max} \\left(- a_{x} a_{y} + a_{x} b_{y} + a_{y} b_{x} - b_{x} b_{y}\\right)}{\\left(a_{x}^{2} - 2 a_{x} b_{x} + a_{y}^{2} - 2 a_{y} b_{y} + b_{x}^{2} + b_{y}^{2}\\right)^{\\frac{3}{2}}} & 0 & 0\\\\\\frac{2 d_{max} \\left(a_{x} a_{y} - a_{x} b_{y} - a_{y} b_{x} + b_{x} b_{y}\\right)}{\\left(a_{x}^{2} - 2 a_{x} b_{x} + a_{y}^{2} - 2 a_{y} b_{y} + b_{x}^{2} + b_{y}^{2}\\right)^{\\frac{3}{2}}} & \\frac{2 d_{max} \\left(a_{y} - b_{y}\\right)^{2}}{\\left(\\left(a_{x} - b_{x}\\right)^{2} + \\left(a_{y} - b_{y}\\right)^{2}\\right)^{\\frac{3}{2}}} - \\frac{2 d_{max}}{\\sqrt{\\left(a_{x} - b_{x}\\right)^{2} + \\left(a_{y} - b_{y}\\right)^{2}}} + 2 & 0 & 0 & \\frac{2 d_{max} \\left(- a_{x} a_{y} + a_{x} b_{y} + a_{y} b_{x} - b_{x} b_{y}\\right)}{\\left(a_{x}^{2} - 2 a_{x} b_{x} + a_{y}^{2} - 2 a_{y} b_{y} + b_{x}^{2} + b_{y}^{2}\\right)^{\\frac{3}{2}}} & - \\frac{2 d_{max} \\left(a_{y} - b_{y}\\right)^{2}}{\\left(\\left(a_{x} - b_{x}\\right)^{2} + \\left(a_{y} - b_{y}\\right)^{2}\\right)^{\\frac{3}{2}}} + \\frac{2 d_{max}}{\\sqrt{\\left(a_{x} - b_{x}\\right)^{2} + \\left(a_{y} - b_{y}\\right)^{2}}} - 2 & 0 & 0\\\\0 & 0 & 0 & 0 & 0 & 0 & 0 & 0\\\\0 & 0 & 0 & 0 & 0 & 0 & 0 & 0\\\\- \\frac{2 d_{max} \\left(a_{x} - b_{x}\\right)^{2}}{\\left(\\left(a_{x} - b_{x}\\right)^{2} + \\left(a_{y} - b_{y}\\right)^{2}\\right)^{\\frac{3}{2}}} + \\frac{2 d_{max}}{\\sqrt{\\left(a_{x} - b_{x}\\right)^{2} + \\left(a_{y} - b_{y}\\right)^{2}}} - 2 & \\frac{2 d_{max} \\left(- a_{x} a_{y} + a_{x} b_{y} + a_{y} b_{x} - b_{x} b_{y}\\right)}{\\left(a_{x}^{2} - 2 a_{x} b_{x} + a_{y}^{2} - 2 a_{y} b_{y} + b_{x}^{2} + b_{y}^{2}\\right)^{\\frac{3}{2}}} & 0 & 0 & \\frac{2 d_{max} \\left(a_{x} - b_{x}\\right)^{2}}{\\left(\\left(a_{x} - b_{x}\\right)^{2} + \\left(a_{y} - b_{y}\\right)^{2}\\right)^{\\frac{3}{2}}} - \\frac{2 d_{max}}{\\sqrt{\\left(a_{x} - b_{x}\\right)^{2} + \\left(a_{y} - b_{y}\\right)^{2}}} + 2 & \\frac{2 d_{max} \\left(a_{x} a_{y} - a_{x} b_{y} - a_{y} b_{x} + b_{x} b_{y}\\right)}{\\left(a_{x}^{2} - 2 a_{x} b_{x} + a_{y}^{2} - 2 a_{y} b_{y} + b_{x}^{2} + b_{y}^{2}\\right)^{\\frac{3}{2}}} & 0 & 0\\\\\\frac{2 d_{max} \\left(- a_{x} a_{y} + a_{x} b_{y} + a_{y} b_{x} - b_{x} b_{y}\\right)}{\\left(a_{x}^{2} - 2 a_{x} b_{x} + a_{y}^{2} - 2 a_{y} b_{y} + b_{x}^{2} + b_{y}^{2}\\right)^{\\frac{3}{2}}} & - \\frac{2 d_{max} \\left(a_{y} - b_{y}\\right)^{2}}{\\left(\\left(a_{x} - b_{x}\\right)^{2} + \\left(a_{y} - b_{y}\\right)^{2}\\right)^{\\frac{3}{2}}} + \\frac{2 d_{max}}{\\sqrt{\\left(a_{x} - b_{x}\\right)^{2} + \\left(a_{y} - b_{y}\\right)^{2}}} - 2 & 0 & 0 & \\frac{2 d_{max} \\left(a_{x} a_{y} - a_{x} b_{y} - a_{y} b_{x} + b_{x} b_{y}\\right)}{\\left(a_{x}^{2} - 2 a_{x} b_{x} + a_{y}^{2} - 2 a_{y} b_{y} + b_{x}^{2} + b_{y}^{2}\\right)^{\\frac{3}{2}}} & \\frac{2 d_{max} \\left(a_{y} - b_{y}\\right)^{2}}{\\left(\\left(a_{x} - b_{x}\\right)^{2} + \\left(a_{y} - b_{y}\\right)^{2}\\right)^{\\frac{3}{2}}} - \\frac{2 d_{max}}{\\sqrt{\\left(a_{x} - b_{x}\\right)^{2} + \\left(a_{y} - b_{y}\\right)^{2}}} + 2 & 0 & 0\\\\0 & 0 & 0 & 0 & 0 & 0 & 0 & 0\\\\0 & 0 & 0 & 0 & 0 & 0 & 0 & 0\\end{matrix}\\right]$"
                        ],
                        "text/plain": [
                            "Matrix([\n",
                            "[ 2*d_{max}*(a_x - b_x)**2/((a_x - b_x)**2 + (a_y - b_y)**2)**(3/2) - 2*d_{max}/sqrt((a_x - b_x)**2 + (a_y - b_y)**2) + 2,     2*d_{max}*(a_x*a_y - a_x*b_y - a_y*b_x + b_x*b_y)/(a_x**2 - 2*a_x*b_x + a_y**2 - 2*a_y*b_y + b_x**2 + b_y**2)**(3/2), 0, 0, -2*d_{max}*(a_x - b_x)**2/((a_x - b_x)**2 + (a_y - b_y)**2)**(3/2) + 2*d_{max}/sqrt((a_x - b_x)**2 + (a_y - b_y)**2) - 2,    2*d_{max}*(-a_x*a_y + a_x*b_y + a_y*b_x - b_x*b_y)/(a_x**2 - 2*a_x*b_x + a_y**2 - 2*a_y*b_y + b_x**2 + b_y**2)**(3/2), 0, 0],\n",
                            "[    2*d_{max}*(a_x*a_y - a_x*b_y - a_y*b_x + b_x*b_y)/(a_x**2 - 2*a_x*b_x + a_y**2 - 2*a_y*b_y + b_x**2 + b_y**2)**(3/2),  2*d_{max}*(a_y - b_y)**2/((a_x - b_x)**2 + (a_y - b_y)**2)**(3/2) - 2*d_{max}/sqrt((a_x - b_x)**2 + (a_y - b_y)**2) + 2, 0, 0,    2*d_{max}*(-a_x*a_y + a_x*b_y + a_y*b_x - b_x*b_y)/(a_x**2 - 2*a_x*b_x + a_y**2 - 2*a_y*b_y + b_x**2 + b_y**2)**(3/2), -2*d_{max}*(a_y - b_y)**2/((a_x - b_x)**2 + (a_y - b_y)**2)**(3/2) + 2*d_{max}/sqrt((a_x - b_x)**2 + (a_y - b_y)**2) - 2, 0, 0],\n",
                            "[                                                                                                                       0,                                                                                                                        0, 0, 0,                                                                                                                        0,                                                                                                                        0, 0, 0],\n",
                            "[                                                                                                                       0,                                                                                                                        0, 0, 0,                                                                                                                        0,                                                                                                                        0, 0, 0],\n",
                            "[-2*d_{max}*(a_x - b_x)**2/((a_x - b_x)**2 + (a_y - b_y)**2)**(3/2) + 2*d_{max}/sqrt((a_x - b_x)**2 + (a_y - b_y)**2) - 2,    2*d_{max}*(-a_x*a_y + a_x*b_y + a_y*b_x - b_x*b_y)/(a_x**2 - 2*a_x*b_x + a_y**2 - 2*a_y*b_y + b_x**2 + b_y**2)**(3/2), 0, 0,  2*d_{max}*(a_x - b_x)**2/((a_x - b_x)**2 + (a_y - b_y)**2)**(3/2) - 2*d_{max}/sqrt((a_x - b_x)**2 + (a_y - b_y)**2) + 2,     2*d_{max}*(a_x*a_y - a_x*b_y - a_y*b_x + b_x*b_y)/(a_x**2 - 2*a_x*b_x + a_y**2 - 2*a_y*b_y + b_x**2 + b_y**2)**(3/2), 0, 0],\n",
                            "[   2*d_{max}*(-a_x*a_y + a_x*b_y + a_y*b_x - b_x*b_y)/(a_x**2 - 2*a_x*b_x + a_y**2 - 2*a_y*b_y + b_x**2 + b_y**2)**(3/2), -2*d_{max}*(a_y - b_y)**2/((a_x - b_x)**2 + (a_y - b_y)**2)**(3/2) + 2*d_{max}/sqrt((a_x - b_x)**2 + (a_y - b_y)**2) - 2, 0, 0,     2*d_{max}*(a_x*a_y - a_x*b_y - a_y*b_x + b_x*b_y)/(a_x**2 - 2*a_x*b_x + a_y**2 - 2*a_y*b_y + b_x**2 + b_y**2)**(3/2),  2*d_{max}*(a_y - b_y)**2/((a_x - b_x)**2 + (a_y - b_y)**2)**(3/2) - 2*d_{max}/sqrt((a_x - b_x)**2 + (a_y - b_y)**2) + 2, 0, 0],\n",
                            "[                                                                                                                       0,                                                                                                                        0, 0, 0,                                                                                                                        0,                                                                                                                        0, 0, 0],\n",
                            "[                                                                                                                       0,                                                                                                                        0, 0, 0,                                                                                                                        0,                                                                                                                        0, 0, 0]])"
                        ]
                    },
                    "execution_count": 44,
                    "metadata": {},
                    "output_type": "execute_result"
                }
            ],
            "source": [
                "L_xx"
            ]
        },
        {
            "cell_type": "markdown",
            "id": "f9afb7f9-4b34-49ad-98c4-5b93ab60af97",
            "metadata": {},
            "source": [
                "### Obstacle Cost 2\n",
                "\n",
                "Same as before with linear cost from $d_{max}$ to $2 d_{max}$."
            ]
        },
        {
            "cell_type": "code",
            "execution_count": 66,
            "id": "55fbab66-00fd-42a4-8e33-7f5053edb741",
            "metadata": {},
            "outputs": [
                {
                    "data": {
                        "application/vnd.jupyter.widget-view+json": {
                            "model_id": "de99e41e11ad4e77826dc49c12c745cb",
                            "version_major": 2,
                            "version_minor": 0
                        },
                        "text/plain": [
                            "Canvas(toolbar=Toolbar(toolitems=[('Home', 'Reset original view', 'home', 'home'), ('Back', 'Back to previous …"
                        ]
                    },
                    "metadata": {},
                    "output_type": "display_data"
                },
                {
                    "data": {
                        "application/vnd.jupyter.widget-view+json": {
                            "model_id": "65c0ed32767a46a4b12b144fd7a392e7",
                            "version_major": 2,
                            "version_minor": 0
                        },
                        "text/plain": [
                            "Canvas(toolbar=Toolbar(toolitems=[('Home', 'Reset original view', 'home', 'home'), ('Back', 'Back to previous …"
                        ]
                    },
                    "metadata": {},
                    "output_type": "display_data"
                },
                {
                    "data": {
                        "text/plain": [
                            "Text(0.5, 1.0, 'Lx')"
                        ]
                    },
                    "execution_count": 66,
                    "metadata": {},
                    "output_type": "execute_result"
                }
            ],
            "source": [
                "d_max, d, gamma = sym.symbols('d_{max} d gamma', positive=True)\n",
                "L = Piecewise(\n",
                "    ((d - d_max)**2 + gamma, d <= d_max),\n",
                "    (gamma * (2 - d/d_max), (d_max <= d) & (d <= 2 * d_max)),\n",
                "    (0,  d > 2*d_max)\n",
                ")\n",
                "\n",
                "Ls = L.subs({d_max: 5, gamma: 10})\n",
                "\n",
                "sym.plot(Ls, (d, 0, 10))\n",
                "plt.title('L')\n",
                "sym.plot(Ls.diff(d), (d, 0, 10))\n",
                "plt.title('Lx')"
            ]
        },
        {
            "cell_type": "code",
            "execution_count": null,
            "id": "43677bcd-ff4d-42d8-b8f2-0e4d0be9804f",
            "metadata": {},
            "outputs": [],
            "source": []
        }
    ],
    "metadata": {
        "interpreter": {
            "hash": "47ceab531cf69b537fe65a3a7522f5261d58c166c2cbaae4e0fada792d72aa4e"
        },
        "kernelspec": {
            "display_name": "Python 3 (ipykernel)",
            "language": "python",
            "name": "python3"
        },
        "language_info": {
            "codemirror_mode": {
                "name": "ipython",
                "version": 3
            },
            "file_extension": ".py",
            "mimetype": "text/x-python",
            "name": "python",
            "nbconvert_exporter": "python",
            "pygments_lexer": "ipython3",
            "version": "3.10.4"
        }
    },
    "nbformat": 4,
    "nbformat_minor": 5
}